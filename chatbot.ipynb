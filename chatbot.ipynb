{
  "nbformat": 4,
  "nbformat_minor": 0,
  "metadata": {
    "colab": {
      "name": "Conversational_Chatbot.ipynb",
      "provenance": [],
      "collapsed_sections": [],
      "include_colab_link": true
    },
    "kernelspec": {
      "name": "python3",
      "display_name": "Python 3"
    },
    "accelerator": "GPU"
  },
  "cells": [
    {
      "cell_type": "markdown",
      "metadata": {
        "id": "view-in-github",
        "colab_type": "text"
      },
      "source": [
        "<a href=\"https://colab.research.google.com/github/saswat0208/Biding-website/blob/main/chatbot.ipynb\" target=\"_parent\"><img src=\"https://colab.research.google.com/assets/colab-badge.svg\" alt=\"Open In Colab\"/></a>"
      ]
    },
    {
      "cell_type": "markdown",
      "metadata": {
        "id": "kIFYA-Kp8aK4"
      },
      "source": [
        "## Starting Jupyter Notebook with necessary imports"
      ]
    },
    {
      "cell_type": "code",
      "metadata": {
        "id": "R0_7gOmu0r3v"
      },
      "source": [
        "%matplotlib inline\n",
        "\n",
        "import logging, io, json, warnings\n",
        "logging.basicConfig(level=\"INFO\")\n",
        "warnings.filterwarnings('ignore')\n",
        "\n"
      ],
      "execution_count": null,
      "outputs": []
    },
    {
      "cell_type": "code",
      "metadata": {
        "id": "CUGwYcdN1oOP",
        "outputId": "0d9edef1-6a78-4004-b4e6-906ab11f835d",
        "colab": {
          "base_uri": "https://localhost:8080/",
          "height": 122
        }
      },
      "source": [
        "from google.colab import drive\n",
        "drive.mount('/gdrive')"
      ],
      "execution_count": null,
      "outputs": [
        {
          "output_type": "stream",
          "text": [
            "Go to this URL in a browser: https://accounts.google.com/o/oauth2/auth?client_id=947318989803-6bn6qk8qdgf4n4g3pfee6491hc0brc4i.apps.googleusercontent.com&redirect_uri=urn%3Aietf%3Awg%3Aoauth%3A2.0%3Aoob&scope=email%20https%3A%2F%2Fwww.googleapis.com%2Fauth%2Fdocs.test%20https%3A%2F%2Fwww.googleapis.com%2Fauth%2Fdrive%20https%3A%2F%2Fwww.googleapis.com%2Fauth%2Fdrive.photos.readonly%20https%3A%2F%2Fwww.googleapis.com%2Fauth%2Fpeopleapi.readonly&response_type=code\n",
            "\n",
            "Enter your authorization code:\n",
            "··········\n",
            "Mounted at /gdrive\n"
          ],
          "name": "stdout"
        }
      ]
    },
    {
      "cell_type": "code",
      "metadata": {
        "id": "_pdpQFYW28U7",
        "outputId": "1291490e-7754-4810-e4a2-d5728b7b5b0a",
        "colab": {
          "base_uri": "https://localhost:8080/",
          "height": 88
        }
      },
      "source": [
        "## This step is only required to remove tensorflow completely before starting.\n",
        "## It works around a bug in tensorflow-colab integration.\n",
        "\n",
        "!pip uninstall -y tensorflow\n",
        "\n",
        "!rm -r /usr/local/lib/python3.6/dist-packages/tensorflow\n",
        "!rm -r /usr/local/lib/python2.7/dist-packages/tensorflow"
      ],
      "execution_count": null,
      "outputs": [
        {
          "output_type": "stream",
          "text": [
            "Uninstalling tensorflow-1.15.0rc3:\n",
            "  Successfully uninstalled tensorflow-1.15.0rc3\n",
            "rm: cannot remove '/usr/local/lib/python3.6/dist-packages/tensorflow': No such file or directory\n"
          ],
          "name": "stdout"
        }
      ]
    },
    {
      "cell_type": "markdown",
      "metadata": {
        "id": "IVAF41hr8jU5"
      },
      "source": [
        "# Installations\n",
        "* Rasa NLU\n",
        "* Rasa Core\n",
        "* SpaCy Language Model"
      ]
    },
    {
      "cell_type": "code",
      "metadata": {
        "id": "UsvAOHF_1dAY",
        "outputId": "515eb8ee-f896-4852-e20f-b32ce43d6b12",
        "colab": {
          "base_uri": "https://localhost:8080/",
          "height": 1000
        }
      },
      "source": [
        "import sys\n",
        "python = sys.executable\n",
        "\n",
        "# In your environment run:\n",
        "!{python} -m pip install -U rasa_core==0.9.6 rasa_nlu[spacy]==0.12.3;"
      ],
      "execution_count": null,
      "outputs": [
        {
          "output_type": "stream",
          "text": [
            "Collecting rasa_core==0.9.6\n",
            "\u001b[?25l  Downloading https://files.pythonhosted.org/packages/72/de/82e762685a991351a9f89d934b1b25fe04d10462cf4017f93227cb4d9058/rasa_core-0.9.6-py2.py3-none-any.whl (125kB)\n",
            "\u001b[K     |████████████████████████████████| 133kB 2.8MB/s \n",
            "\u001b[?25hCollecting rasa_nlu[spacy]==0.12.3\n",
            "\u001b[?25l  Downloading https://files.pythonhosted.org/packages/e7/24/9dacfae4525ea885c1d908878296ad705512eb6f72a95a51fbd728ea6fa8/rasa_nlu-0.12.3-py2.py3-none-any.whl (131kB)\n",
            "\u001b[K     |████████████████████████████████| 133kB 45.7MB/s \n",
            "\u001b[?25hCollecting fakeredis~=0.10.0 (from rasa_core==0.9.6)\n",
            "  Downloading https://files.pythonhosted.org/packages/64/bd/2756ddf350c4bb308e3255f9dcd6610f8b01344947bf74d5d166dc66b0a2/fakeredis-0.10.3-py2.py3-none-any.whl\n",
            "Requirement already satisfied, skipping upgrade: keras~=2.0 in /usr/local/lib/python3.6/dist-packages (from rasa_core==0.9.6) (2.2.5)\n",
            "Collecting tensorflow<1.9,>=1.7 (from rasa_core==0.9.6)\n",
            "\u001b[?25l  Downloading https://files.pythonhosted.org/packages/22/c6/d08f7c549330c2acc1b18b5c1f0f8d9d2af92f54d56861f331f372731671/tensorflow-1.8.0-cp36-cp36m-manylinux1_x86_64.whl (49.1MB)\n",
            "\u001b[K     |████████████████████████████████| 49.1MB 1.3MB/s \n",
            "\u001b[?25hCollecting coloredlogs~=10.0 (from rasa_core==0.9.6)\n",
            "\u001b[?25l  Downloading https://files.pythonhosted.org/packages/08/0f/7877fc42fff0b9d70b6442df62d53b3868d3a6ad1b876bdb54335b30ff23/coloredlogs-10.0-py2.py3-none-any.whl (47kB)\n",
            "\u001b[K     |████████████████████████████████| 51kB 16.8MB/s \n",
            "\u001b[?25hCollecting pykwalify<=1.6.0 (from rasa_core==0.9.6)\n",
            "  Downloading https://files.pythonhosted.org/packages/6e/59/55c32d59b462a9c3fae2ab25f179f91d61617c0215e9f8ba3f4966b2b8b1/pykwalify-1.6.0-py2.py3-none-any.whl\n",
            "Requirement already satisfied, skipping upgrade: six~=1.0 in /usr/local/lib/python3.6/dist-packages (from rasa_core==0.9.6) (1.12.0)\n",
            "Collecting slackclient~=1.0 (from rasa_core==0.9.6)\n",
            "  Downloading https://files.pythonhosted.org/packages/7c/2f/9b6db4c7686be3dc6b4244eaef4f37226a2ccca1a796516d4adcdfeefe56/slackclient-1.3.2.tar.gz\n",
            "Requirement already satisfied, skipping upgrade: tqdm~=4.0 in /usr/local/lib/python3.6/dist-packages (from rasa_core==0.9.6) (4.28.1)\n",
            "Collecting python-telegram-bot~=10.0 (from rasa_core==0.9.6)\n",
            "\u001b[?25l  Downloading https://files.pythonhosted.org/packages/f1/51/d1bd383522c12b313eddd7b97b8e7d6cd2a8e3b44b8ff3c88e4a7b045cc8/python_telegram_bot-10.1.0-py2.py3-none-any.whl (298kB)\n",
            "\u001b[K     |████████████████████████████████| 307kB 32.2MB/s \n",
            "\u001b[?25hCollecting scikit-learn~=0.19.0 (from rasa_core==0.9.6)\n",
            "\u001b[?25l  Downloading https://files.pythonhosted.org/packages/f9/c8/8db4108aba5e2166cd2ea4eafa1a4b82f89240a1fa85733029cc2358ad1f/scikit_learn-0.19.2-cp36-cp36m-manylinux1_x86_64.whl (4.9MB)\n",
            "\u001b[K     |████████████████████████████████| 4.9MB 25.3MB/s \n",
            "\u001b[?25hRequirement already satisfied, skipping upgrade: requests~=2.15 in /usr/local/lib/python3.6/dist-packages (from rasa_core==0.9.6) (2.21.0)\n",
            "Requirement already satisfied, skipping upgrade: flask~=1.0 in /usr/local/lib/python3.6/dist-packages (from rasa_core==0.9.6) (1.1.1)\n",
            "Collecting graphviz~=0.8.0 (from rasa_core==0.9.6)\n",
            "  Downloading https://files.pythonhosted.org/packages/53/39/4ab213673844e0c004bed8a0781a0721a3f6bb23eb8854ee75c236428892/graphviz-0.8.4-py2.py3-none-any.whl\n",
            "Requirement already satisfied, skipping upgrade: future~=0.16 in /usr/local/lib/python3.6/dist-packages (from rasa_core==0.9.6) (0.16.0)\n",
            "Collecting typing~=3.0 (from rasa_core==0.9.6)\n",
            "  Downloading https://files.pythonhosted.org/packages/fe/2e/b480ee1b75e6d17d2993738670e75c1feeb9ff7f64452153cf018051cc92/typing-3.7.4.1-py3-none-any.whl\n",
            "Collecting colorhash~=1.0 (from rasa_core==0.9.6)\n",
            "  Downloading https://files.pythonhosted.org/packages/0e/e1/50dbc513aa74e99eca4c47f2a8206711f0bec436fdddd95eebaf7eaaa1aa/colorhash-1.0.2-py2.py3-none-any.whl\n",
            "Requirement already satisfied, skipping upgrade: numpy~=1.13 in /usr/local/lib/python3.6/dist-packages (from rasa_core==0.9.6) (1.16.5)\n",
            "Collecting ConfigArgParse~=0.13.0 (from rasa_core==0.9.6)\n",
            "  Downloading https://files.pythonhosted.org/packages/77/61/ae928ce6ab85d4479ea198488cf5ffa371bd4ece2030c0ee85ff668deac5/ConfigArgParse-0.13.0.tar.gz\n",
            "Collecting redis~=2.0 (from rasa_core==0.9.6)\n",
            "\u001b[?25l  Downloading https://files.pythonhosted.org/packages/3b/f6/7a76333cf0b9251ecf49efff635015171843d9b977e4ffcf59f9c4428052/redis-2.10.6-py2.py3-none-any.whl (64kB)\n",
            "\u001b[K     |████████████████████████████████| 71kB 25.6MB/s \n",
            "\u001b[?25hCollecting twilio~=6.0 (from rasa_core==0.9.6)\n",
            "\u001b[?25l  Downloading https://files.pythonhosted.org/packages/ae/14/a6d03cc22f6a4a9d4c681f64e7ce374a74186afc51fccc7569005cf52e40/twilio-6.32.0.tar.gz (386kB)\n",
            "\u001b[K     |████████████████████████████████| 389kB 49.1MB/s \n",
            "\u001b[?25hCollecting ruamel.yaml~=0.15.0 (from rasa_core==0.9.6)\n",
            "\u001b[?25l  Downloading https://files.pythonhosted.org/packages/e7/9f/83bb34eaf84032b0b54fcc4a6aff1858572d279d65a301c7ae875f523df5/ruamel.yaml-0.15.100-cp36-cp36m-manylinux1_x86_64.whl (656kB)\n",
            "\u001b[K     |████████████████████████████████| 665kB 34.9MB/s \n",
            "\u001b[?25hRequirement already satisfied, skipping upgrade: h5py~=2.0 in /usr/local/lib/python3.6/dist-packages (from rasa_core==0.9.6) (2.8.0)\n",
            "Collecting jsonpickle~=0.9.0 (from rasa_core==0.9.6)\n",
            "\u001b[?25l  Downloading https://files.pythonhosted.org/packages/32/d5/2f47f03d3f64c31b0d7070b488274631d7567c36e81a9f744e6638bb0f0d/jsonpickle-0.9.6.tar.gz (67kB)\n",
            "\u001b[K     |████████████████████████████████| 71kB 18.3MB/s \n",
            "\u001b[?25hCollecting apscheduler~=3.0 (from rasa_core==0.9.6)\n",
            "\u001b[?25l  Downloading https://files.pythonhosted.org/packages/09/ff/d5b0e81846cd5e92d02e5f2682b78c73a5d9d61bc1eae32cea5ac15c0d47/APScheduler-3.6.1-py2.py3-none-any.whl (58kB)\n",
            "\u001b[K     |████████████████████████████████| 61kB 26.2MB/s \n",
            "\u001b[?25hCollecting flask-cors~=3.0 (from rasa_core==0.9.6)\n",
            "  Downloading https://files.pythonhosted.org/packages/78/38/e68b11daa5d613e3a91e4bf3da76c94ac9ee0d9cd515af9c1ab80d36f709/Flask_Cors-3.0.8-py2.py3-none-any.whl\n",
            "Requirement already satisfied, skipping upgrade: networkx~=2.0 in /usr/local/lib/python3.6/dist-packages (from rasa_core==0.9.6) (2.3)\n",
            "Collecting fbmessenger~=5.0 (from rasa_core==0.9.6)\n",
            "  Downloading https://files.pythonhosted.org/packages/51/9d/9a426160e00c3c9d839314685fcec1f60ad04888be4228399dadb37c3226/fbmessenger-5.6.0-py2.py3-none-any.whl\n",
            "Collecting mattermostwrapper~=2.0 (from rasa_core==0.9.6)\n",
            "  Downloading https://files.pythonhosted.org/packages/93/70/203660597d12788e958dd691aa11c3c29caa075eadb2ce94d2eb53099d1b/mattermostwrapper-2.1-py2.py3-none-any.whl\n",
            "Collecting klein (from rasa_nlu[spacy]==0.12.3)\n",
            "\u001b[?25l  Downloading https://files.pythonhosted.org/packages/90/5b/c7535e863280e74dd58dd4ee5cb6bc6725f43aa3109324f62178362959ca/klein-19.6.0-py2.py3-none-any.whl (117kB)\n",
            "\u001b[K     |████████████████████████████████| 122kB 44.4MB/s \n",
            "\u001b[?25hRequirement already satisfied, skipping upgrade: pathlib in /usr/local/lib/python3.6/dist-packages (from rasa_nlu[spacy]==0.12.3) (1.0.1)\n",
            "Requirement already satisfied, skipping upgrade: packaging in /usr/local/lib/python3.6/dist-packages (from rasa_nlu[spacy]==0.12.3) (19.2)\n",
            "Collecting simplejson (from rasa_nlu[spacy]==0.12.3)\n",
            "\u001b[?25l  Downloading https://files.pythonhosted.org/packages/e3/24/c35fb1c1c315fc0fffe61ea00d3f88e85469004713dab488dee4f35b0aff/simplejson-3.16.0.tar.gz (81kB)\n",
            "\u001b[K     |████████████████████████████████| 81kB 27.2MB/s \n",
            "\u001b[?25hRequirement already satisfied, skipping upgrade: pyyaml in /usr/local/lib/python3.6/dist-packages (from rasa_nlu[spacy]==0.12.3) (3.13)\n",
            "Requirement already satisfied, skipping upgrade: cloudpickle in /usr/local/lib/python3.6/dist-packages (from rasa_nlu[spacy]==0.12.3) (0.6.1)\n",
            "Requirement already satisfied, skipping upgrade: jsonschema in /usr/local/lib/python3.6/dist-packages (from rasa_nlu[spacy]==0.12.3) (2.6.0)\n",
            "Requirement already satisfied, skipping upgrade: gevent in /usr/local/lib/python3.6/dist-packages (from rasa_nlu[spacy]==0.12.3) (1.4.0)\n",
            "Requirement already satisfied, skipping upgrade: boto3 in /usr/local/lib/python3.6/dist-packages (from rasa_nlu[spacy]==0.12.3) (1.9.250)\n",
            "Requirement already satisfied, skipping upgrade: matplotlib in /usr/local/lib/python3.6/dist-packages (from rasa_nlu[spacy]==0.12.3) (3.0.3)\n",
            "Requirement already satisfied, skipping upgrade: spacy>2.0; extra == \"spacy\" in /usr/local/lib/python3.6/dist-packages (from rasa_nlu[spacy]==0.12.3) (2.1.8)\n",
            "Collecting sklearn-crfsuite; extra == \"spacy\" (from rasa_nlu[spacy]==0.12.3)\n",
            "  Downloading https://files.pythonhosted.org/packages/25/74/5b7befa513482e6dee1f3dd68171a6c9dfc14c0eaa00f885ffeba54fe9b0/sklearn_crfsuite-0.3.6-py2.py3-none-any.whl\n",
            "Requirement already satisfied, skipping upgrade: scipy; extra == \"spacy\" in /usr/local/lib/python3.6/dist-packages (from rasa_nlu[spacy]==0.12.3) (1.3.1)\n",
            "Requirement already satisfied, skipping upgrade: keras-applications>=1.0.8 in /usr/local/lib/python3.6/dist-packages (from keras~=2.0->rasa_core==0.9.6) (1.0.8)\n",
            "Requirement already satisfied, skipping upgrade: keras-preprocessing>=1.1.0 in /usr/local/lib/python3.6/dist-packages (from keras~=2.0->rasa_core==0.9.6) (1.1.0)\n",
            "Requirement already satisfied, skipping upgrade: astor>=0.6.0 in /usr/local/lib/python3.6/dist-packages (from tensorflow<1.9,>=1.7->rasa_core==0.9.6) (0.8.0)\n",
            "Collecting tensorboard<1.9.0,>=1.8.0 (from tensorflow<1.9,>=1.7->rasa_core==0.9.6)\n",
            "\u001b[?25l  Downloading https://files.pythonhosted.org/packages/59/a6/0ae6092b7542cfedba6b2a1c9b8dceaf278238c39484f3ba03b03f07803c/tensorboard-1.8.0-py3-none-any.whl (3.1MB)\n",
            "\u001b[K     |████████████████████████████████| 3.1MB 30.1MB/s \n",
            "\u001b[?25hRequirement already satisfied, skipping upgrade: termcolor>=1.1.0 in /usr/local/lib/python3.6/dist-packages (from tensorflow<1.9,>=1.7->rasa_core==0.9.6) (1.1.0)\n",
            "Requirement already satisfied, skipping upgrade: grpcio>=1.8.6 in /usr/local/lib/python3.6/dist-packages (from tensorflow<1.9,>=1.7->rasa_core==0.9.6) (1.15.0)\n",
            "Requirement already satisfied, skipping upgrade: wheel>=0.26 in /usr/local/lib/python3.6/dist-packages (from tensorflow<1.9,>=1.7->rasa_core==0.9.6) (0.33.6)\n",
            "Requirement already satisfied, skipping upgrade: absl-py>=0.1.6 in /usr/local/lib/python3.6/dist-packages (from tensorflow<1.9,>=1.7->rasa_core==0.9.6) (0.8.1)\n",
            "Requirement already satisfied, skipping upgrade: gast>=0.2.0 in /usr/local/lib/python3.6/dist-packages (from tensorflow<1.9,>=1.7->rasa_core==0.9.6) (0.2.2)\n",
            "Requirement already satisfied, skipping upgrade: protobuf>=3.4.0 in /usr/local/lib/python3.6/dist-packages (from tensorflow<1.9,>=1.7->rasa_core==0.9.6) (3.10.0)\n",
            "Collecting humanfriendly>=4.7 (from coloredlogs~=10.0->rasa_core==0.9.6)\n",
            "\u001b[?25l  Downloading https://files.pythonhosted.org/packages/90/df/88bff450f333114680698dc4aac7506ff7cab164b794461906de31998665/humanfriendly-4.18-py2.py3-none-any.whl (73kB)\n",
            "\u001b[K     |████████████████████████████████| 81kB 29.5MB/s \n",
            "\u001b[?25hRequirement already satisfied, skipping upgrade: python-dateutil>=2.4.2 in /usr/local/lib/python3.6/dist-packages (from pykwalify<=1.6.0->rasa_core==0.9.6) (2.5.3)\n",
            "Requirement already satisfied, skipping upgrade: docopt>=0.6.2 in /usr/local/lib/python3.6/dist-packages (from pykwalify<=1.6.0->rasa_core==0.9.6) (0.6.2)\n",
            "Collecting websocket-client<0.55.0,>=0.35 (from slackclient~=1.0->rasa_core==0.9.6)\n",
            "\u001b[?25l  Downloading https://files.pythonhosted.org/packages/26/2d/f749a5c82f6192d77ed061a38e02001afcba55fe8477336d26a950ab17ce/websocket_client-0.54.0-py2.py3-none-any.whl (200kB)\n",
            "\u001b[K     |████████████████████████████████| 204kB 51.0MB/s \n",
            "\u001b[?25hRequirement already satisfied, skipping upgrade: certifi in /usr/local/lib/python3.6/dist-packages (from python-telegram-bot~=10.0->rasa_core==0.9.6) (2019.9.11)\n",
            "Requirement already satisfied, skipping upgrade: urllib3<1.25,>=1.21.1 in /usr/local/lib/python3.6/dist-packages (from requests~=2.15->rasa_core==0.9.6) (1.24.3)\n",
            "Requirement already satisfied, skipping upgrade: chardet<3.1.0,>=3.0.2 in /usr/local/lib/python3.6/dist-packages (from requests~=2.15->rasa_core==0.9.6) (3.0.4)\n",
            "Requirement already satisfied, skipping upgrade: idna<2.9,>=2.5 in /usr/local/lib/python3.6/dist-packages (from requests~=2.15->rasa_core==0.9.6) (2.8)\n",
            "Requirement already satisfied, skipping upgrade: click>=5.1 in /usr/local/lib/python3.6/dist-packages (from flask~=1.0->rasa_core==0.9.6) (7.0)\n",
            "Requirement already satisfied, skipping upgrade: itsdangerous>=0.24 in /usr/local/lib/python3.6/dist-packages (from flask~=1.0->rasa_core==0.9.6) (1.1.0)\n",
            "Requirement already satisfied, skipping upgrade: Jinja2>=2.10.1 in /usr/local/lib/python3.6/dist-packages (from flask~=1.0->rasa_core==0.9.6) (2.10.3)\n",
            "Requirement already satisfied, skipping upgrade: Werkzeug>=0.15 in /usr/local/lib/python3.6/dist-packages (from flask~=1.0->rasa_core==0.9.6) (0.16.0)\n",
            "Requirement already satisfied, skipping upgrade: pytz in /usr/local/lib/python3.6/dist-packages (from twilio~=6.0->rasa_core==0.9.6) (2018.9)\n",
            "Collecting PyJWT>=1.4.2 (from twilio~=6.0->rasa_core==0.9.6)\n",
            "  Downloading https://files.pythonhosted.org/packages/87/8b/6a9f14b5f781697e51259d81657e6048fd31a113229cf346880bb7545565/PyJWT-1.7.1-py2.py3-none-any.whl\n",
            "Requirement already satisfied, skipping upgrade: setuptools>=0.7 in /usr/local/lib/python3.6/dist-packages (from apscheduler~=3.0->rasa_core==0.9.6) (41.2.0)\n",
            "Requirement already satisfied, skipping upgrade: tzlocal>=1.2 in /usr/local/lib/python3.6/dist-packages (from apscheduler~=3.0->rasa_core==0.9.6) (1.5.1)\n",
            "Requirement already satisfied, skipping upgrade: decorator>=4.3.0 in /usr/local/lib/python3.6/dist-packages (from networkx~=2.0->rasa_core==0.9.6) (4.4.0)\n",
            "Collecting hyperlink (from klein->rasa_nlu[spacy]==0.12.3)\n",
            "  Downloading https://files.pythonhosted.org/packages/7f/91/e916ca10a2de1cb7101a9b24da546fb90ee14629e23160086cf3361c4fb8/hyperlink-19.0.0-py2.py3-none-any.whl\n",
            "Collecting Twisted>=15.5 (from klein->rasa_nlu[spacy]==0.12.3)\n",
            "\u001b[?25l  Downloading https://files.pythonhosted.org/packages/14/49/eb654da38b15285d1f594933eefff36ce03106356197dba28ee8f5721a79/Twisted-19.7.0-cp36-cp36m-manylinux1_x86_64.whl (3.1MB)\n",
            "\u001b[K     |████████████████████████████████| 3.1MB 29.5MB/s \n",
            "\u001b[?25hCollecting zope.interface (from klein->rasa_nlu[spacy]==0.12.3)\n",
            "\u001b[?25l  Downloading https://files.pythonhosted.org/packages/19/17/1d198a6aaa9aa4590862fe3d3a2ed7dd808050cab4eebe8a2f2f813c1376/zope.interface-4.6.0-cp36-cp36m-manylinux1_x86_64.whl (167kB)\n",
            "\u001b[K     |████████████████████████████████| 174kB 43.6MB/s \n",
            "\u001b[?25hRequirement already satisfied, skipping upgrade: attrs in /usr/local/lib/python3.6/dist-packages (from klein->rasa_nlu[spacy]==0.12.3) (19.3.0)\n",
            "Collecting incremental (from klein->rasa_nlu[spacy]==0.12.3)\n",
            "  Downloading https://files.pythonhosted.org/packages/f5/1d/c98a587dc06e107115cf4a58b49de20b19222c83d75335a192052af4c4b7/incremental-17.5.0-py2.py3-none-any.whl\n",
            "Collecting Tubes (from klein->rasa_nlu[spacy]==0.12.3)\n",
            "\u001b[?25l  Downloading https://files.pythonhosted.org/packages/f2/c4/f11f6e63856fd4307a905c6adf52967b5951197ad52efd847cb1b37d1c5d/Tubes-0.2.0-py2.py3-none-any.whl (58kB)\n",
            "\u001b[K     |████████████████████████████████| 61kB 25.6MB/s \n",
            "\u001b[?25hRequirement already satisfied, skipping upgrade: pyparsing>=2.0.2 in /usr/local/lib/python3.6/dist-packages (from packaging->rasa_nlu[spacy]==0.12.3) (2.4.2)\n",
            "Requirement already satisfied, skipping upgrade: greenlet>=0.4.14; platform_python_implementation == \"CPython\" in /usr/local/lib/python3.6/dist-packages (from gevent->rasa_nlu[spacy]==0.12.3) (0.4.15)\n",
            "Requirement already satisfied, skipping upgrade: jmespath<1.0.0,>=0.7.1 in /usr/local/lib/python3.6/dist-packages (from boto3->rasa_nlu[spacy]==0.12.3) (0.9.4)\n",
            "Requirement already satisfied, skipping upgrade: s3transfer<0.3.0,>=0.2.0 in /usr/local/lib/python3.6/dist-packages (from boto3->rasa_nlu[spacy]==0.12.3) (0.2.1)\n",
            "Requirement already satisfied, skipping upgrade: botocore<1.13.0,>=1.12.250 in /usr/local/lib/python3.6/dist-packages (from boto3->rasa_nlu[spacy]==0.12.3) (1.12.250)\n",
            "Requirement already satisfied, skipping upgrade: kiwisolver>=1.0.1 in /usr/local/lib/python3.6/dist-packages (from matplotlib->rasa_nlu[spacy]==0.12.3) (1.1.0)\n",
            "Requirement already satisfied, skipping upgrade: cycler>=0.10 in /usr/local/lib/python3.6/dist-packages (from matplotlib->rasa_nlu[spacy]==0.12.3) (0.10.0)\n",
            "Requirement already satisfied, skipping upgrade: thinc<7.1.0,>=7.0.8 in /usr/local/lib/python3.6/dist-packages (from spacy>2.0; extra == \"spacy\"->rasa_nlu[spacy]==0.12.3) (7.0.8)\n",
            "Requirement already satisfied, skipping upgrade: blis<0.3.0,>=0.2.2 in /usr/local/lib/python3.6/dist-packages (from spacy>2.0; extra == \"spacy\"->rasa_nlu[spacy]==0.12.3) (0.2.4)\n",
            "Requirement already satisfied, skipping upgrade: wasabi<1.1.0,>=0.2.0 in /usr/local/lib/python3.6/dist-packages (from spacy>2.0; extra == \"spacy\"->rasa_nlu[spacy]==0.12.3) (0.2.2)\n",
            "Requirement already satisfied, skipping upgrade: preshed<2.1.0,>=2.0.1 in /usr/local/lib/python3.6/dist-packages (from spacy>2.0; extra == \"spacy\"->rasa_nlu[spacy]==0.12.3) (2.0.1)\n",
            "Requirement already satisfied, skipping upgrade: plac<1.0.0,>=0.9.6 in /usr/local/lib/python3.6/dist-packages (from spacy>2.0; extra == \"spacy\"->rasa_nlu[spacy]==0.12.3) (0.9.6)\n",
            "Requirement already satisfied, skipping upgrade: cymem<2.1.0,>=2.0.2 in /usr/local/lib/python3.6/dist-packages (from spacy>2.0; extra == \"spacy\"->rasa_nlu[spacy]==0.12.3) (2.0.2)\n",
            "Requirement already satisfied, skipping upgrade: murmurhash<1.1.0,>=0.28.0 in /usr/local/lib/python3.6/dist-packages (from spacy>2.0; extra == \"spacy\"->rasa_nlu[spacy]==0.12.3) (1.0.2)\n",
            "Requirement already satisfied, skipping upgrade: srsly<1.1.0,>=0.0.6 in /usr/local/lib/python3.6/dist-packages (from spacy>2.0; extra == \"spacy\"->rasa_nlu[spacy]==0.12.3) (0.1.0)\n",
            "Requirement already satisfied, skipping upgrade: tabulate in /usr/local/lib/python3.6/dist-packages (from sklearn-crfsuite; extra == \"spacy\"->rasa_nlu[spacy]==0.12.3) (0.8.5)\n",
            "Collecting python-crfsuite>=0.8.3 (from sklearn-crfsuite; extra == \"spacy\"->rasa_nlu[spacy]==0.12.3)\n",
            "\u001b[?25l  Downloading https://files.pythonhosted.org/packages/2f/86/cfcd71edca9d25d3d331209a20f6314b6f3f134c29478f90559cee9ce091/python_crfsuite-0.9.6-cp36-cp36m-manylinux1_x86_64.whl (754kB)\n",
            "\u001b[K     |████████████████████████████████| 757kB 33.9MB/s \n",
            "\u001b[?25hCollecting html5lib==0.9999999 (from tensorboard<1.9.0,>=1.8.0->tensorflow<1.9,>=1.7->rasa_core==0.9.6)\n",
            "\u001b[?25l  Downloading https://files.pythonhosted.org/packages/ae/ae/bcb60402c60932b32dfaf19bb53870b29eda2cd17551ba5639219fb5ebf9/html5lib-0.9999999.tar.gz (889kB)\n",
            "\u001b[K     |████████████████████████████████| 890kB 32.5MB/s \n",
            "\u001b[?25hCollecting bleach==1.5.0 (from tensorboard<1.9.0,>=1.8.0->tensorflow<1.9,>=1.7->rasa_core==0.9.6)\n",
            "  Downloading https://files.pythonhosted.org/packages/33/70/86c5fec937ea4964184d4d6c4f0b9551564f821e1c3575907639036d9b90/bleach-1.5.0-py2.py3-none-any.whl\n",
            "Requirement already satisfied, skipping upgrade: markdown>=2.6.8 in /usr/local/lib/python3.6/dist-packages (from tensorboard<1.9.0,>=1.8.0->tensorflow<1.9,>=1.7->rasa_core==0.9.6) (3.1.1)\n",
            "Requirement already satisfied, skipping upgrade: MarkupSafe>=0.23 in /usr/local/lib/python3.6/dist-packages (from Jinja2>=2.10.1->flask~=1.0->rasa_core==0.9.6) (1.1.1)\n",
            "Collecting Automat>=0.3.0 (from Twisted>=15.5->klein->rasa_nlu[spacy]==0.12.3)\n",
            "  Downloading https://files.pythonhosted.org/packages/a3/86/14c16bb98a5a3542ed8fed5d74fb064a902de3bdd98d6584b34553353c45/Automat-0.7.0-py2.py3-none-any.whl\n",
            "Collecting PyHamcrest>=1.9.0 (from Twisted>=15.5->klein->rasa_nlu[spacy]==0.12.3)\n",
            "\u001b[?25l  Downloading https://files.pythonhosted.org/packages/9a/d5/d37fd731b7d0e91afcc84577edeccf4638b4f9b82f5ffe2f8b62e2ddc609/PyHamcrest-1.9.0-py2.py3-none-any.whl (52kB)\n",
            "\u001b[K     |████████████████████████████████| 61kB 27.5MB/s \n",
            "\u001b[?25hCollecting constantly>=15.1 (from Twisted>=15.5->klein->rasa_nlu[spacy]==0.12.3)\n",
            "  Downloading https://files.pythonhosted.org/packages/b9/65/48c1909d0c0aeae6c10213340ce682db01b48ea900a7d9fce7a7910ff318/constantly-15.1.0-py2.py3-none-any.whl\n",
            "Collecting characteristic (from Tubes->klein->rasa_nlu[spacy]==0.12.3)\n",
            "  Downloading https://files.pythonhosted.org/packages/fa/0d/7fa43a50feaa8896e9acbb91d2256dc1341e8f9a0be629138490ee1f849e/characteristic-14.3.0-py2.py3-none-any.whl\n",
            "Requirement already satisfied, skipping upgrade: docutils<0.16,>=0.10 in /usr/local/lib/python3.6/dist-packages (from botocore<1.13.0,>=1.12.250->boto3->rasa_nlu[spacy]==0.12.3) (0.15.2)\n",
            "Building wheels for collected packages: slackclient, ConfigArgParse, twilio, jsonpickle, simplejson, html5lib\n",
            "  Building wheel for slackclient (setup.py) ... \u001b[?25l\u001b[?25hdone\n",
            "  Created wheel for slackclient: filename=slackclient-1.3.2-py2.py3-none-any.whl size=19228 sha256=2de54b8682013d632b0c28eb95e431ffe67a918d89fda5eba0d916b5d77ddb49\n",
            "  Stored in directory: /root/.cache/pip/wheels/3b/d4/92/3458f0e1a3e1a9c8935d3b2db89a75d74d8d45601fedec752f\n",
            "  Building wheel for ConfigArgParse (setup.py) ... \u001b[?25l\u001b[?25hdone\n",
            "  Created wheel for ConfigArgParse: filename=ConfigArgParse-0.13.0-cp36-none-any.whl size=17571 sha256=2bde7bc20a739e9fbbf77fba16e5f81a726e62bc91a4e3e960985edb624050ec\n",
            "  Stored in directory: /root/.cache/pip/wheels/76/11/eb/12113becd46c0e8a70b8a63f9405e46a1f61d4aaa8532d676b\n",
            "  Building wheel for twilio (setup.py) ... \u001b[?25l\u001b[?25hdone\n",
            "  Created wheel for twilio: filename=twilio-6.32.0-py2.py3-none-any.whl size=1033049 sha256=893ef0650dfbf821b2a9ec3f3f12317e0f3407cae2e2d51b3396f02ba9f98942\n",
            "  Stored in directory: /root/.cache/pip/wheels/94/3c/0e/049f913544f4f0d5c57e6d2fb6e39781d35b894c8b2f261bd0\n",
            "  Building wheel for jsonpickle (setup.py) ... \u001b[?25l\u001b[?25hdone\n",
            "  Created wheel for jsonpickle: filename=jsonpickle-0.9.6-cp36-none-any.whl size=29465 sha256=60aaaf8fd9e25e662b3dd9c9b820dfa20e76e264d5d44db423380778ea396a7d\n",
            "  Stored in directory: /root/.cache/pip/wheels/07/8b/41/8ce98f4737a9ff61b1bf2673f2abfe66a6a43ad6e91d2c9736\n",
            "  Building wheel for simplejson (setup.py) ... \u001b[?25l\u001b[?25hdone\n",
            "  Created wheel for simplejson: filename=simplejson-3.16.0-cp36-cp36m-linux_x86_64.whl size=114015 sha256=a392f6f685b3651b6e37a757152cf7cd32a2983596b100dec128751af43f5ca5\n",
            "  Stored in directory: /root/.cache/pip/wheels/5d/1a/1e/0350bb3df3e74215cd91325344cc86c2c691f5306eb4d22c77\n",
            "  Building wheel for html5lib (setup.py) ... \u001b[?25l\u001b[?25hdone\n",
            "  Created wheel for html5lib: filename=html5lib-0.9999999-cp36-none-any.whl size=107221 sha256=d5614375a5fb61230303226cf3c26e57ba433e5d46b6998e0f651dea14eeaa13\n",
            "  Stored in directory: /root/.cache/pip/wheels/50/ae/f9/d2b189788efcf61d1ee0e36045476735c838898eef1cad6e29\n",
            "Successfully built slackclient ConfigArgParse twilio jsonpickle simplejson html5lib\n",
            "\u001b[31mERROR: yellowbrick 0.9.1 has requirement scikit-learn>=0.20, but you'll have scikit-learn 0.19.2 which is incompatible.\u001b[0m\n",
            "\u001b[31mERROR: magenta 0.3.19 has requirement tensorflow>=1.12.0, but you'll have tensorflow 1.8.0 which is incompatible.\u001b[0m\n",
            "\u001b[31mERROR: imbalanced-learn 0.4.3 has requirement scikit-learn>=0.20, but you'll have scikit-learn 0.19.2 which is incompatible.\u001b[0m\n",
            "Installing collected packages: redis, fakeredis, html5lib, bleach, tensorboard, tensorflow, humanfriendly, coloredlogs, pykwalify, websocket-client, slackclient, python-telegram-bot, scikit-learn, graphviz, typing, colorhash, ConfigArgParse, hyperlink, zope.interface, Automat, PyHamcrest, incremental, constantly, Twisted, characteristic, Tubes, klein, simplejson, python-crfsuite, sklearn-crfsuite, rasa-nlu, PyJWT, twilio, ruamel.yaml, jsonpickle, apscheduler, flask-cors, fbmessenger, mattermostwrapper, rasa-core\n",
            "  Found existing installation: html5lib 1.0.1\n",
            "    Uninstalling html5lib-1.0.1:\n",
            "      Successfully uninstalled html5lib-1.0.1\n",
            "  Found existing installation: bleach 3.1.0\n",
            "    Uninstalling bleach-3.1.0:\n",
            "      Successfully uninstalled bleach-3.1.0\n",
            "  Found existing installation: tensorboard 1.15.0\n",
            "    Uninstalling tensorboard-1.15.0:\n",
            "      Successfully uninstalled tensorboard-1.15.0\n",
            "  Found existing installation: scikit-learn 0.21.3\n",
            "    Uninstalling scikit-learn-0.21.3:\n",
            "      Successfully uninstalled scikit-learn-0.21.3\n",
            "  Found existing installation: graphviz 0.10.1\n",
            "    Uninstalling graphviz-0.10.1:\n",
            "      Successfully uninstalled graphviz-0.10.1\n",
            "Successfully installed Automat-0.7.0 ConfigArgParse-0.13.0 PyHamcrest-1.9.0 PyJWT-1.7.1 Tubes-0.2.0 Twisted-19.7.0 apscheduler-3.6.1 bleach-1.5.0 characteristic-14.3.0 coloredlogs-10.0 colorhash-1.0.2 constantly-15.1.0 fakeredis-0.10.3 fbmessenger-5.6.0 flask-cors-3.0.8 graphviz-0.8.4 html5lib-0.9999999 humanfriendly-4.18 hyperlink-19.0.0 incremental-17.5.0 jsonpickle-0.9.6 klein-19.6.0 mattermostwrapper-2.1 pykwalify-1.6.0 python-crfsuite-0.9.6 python-telegram-bot-10.1.0 rasa-core-0.9.6 rasa-nlu-0.12.3 redis-2.10.6 ruamel.yaml-0.15.100 scikit-learn-0.19.2 simplejson-3.16.0 sklearn-crfsuite-0.3.6 slackclient-1.3.2 tensorboard-1.8.0 tensorflow-1.8.0 twilio-6.32.0 typing-3.7.4.1 websocket-client-0.54.0 zope.interface-4.6.0\n"
          ],
          "name": "stdout"
        }
      ]
    },
    {
      "cell_type": "code",
      "metadata": {
        "id": "wyCva14-1gD4",
        "outputId": "8de65c6f-41e1-4377-8813-37b7d2ef4d8f",
        "colab": {
          "base_uri": "https://localhost:8080/",
          "height": 241
        }
      },
      "source": [
        "!{python} -m spacy download en_core_web_md"
      ],
      "execution_count": null,
      "outputs": [
        {
          "output_type": "stream",
          "text": [
            "Collecting en_core_web_md==2.1.0 from https://github.com/explosion/spacy-models/releases/download/en_core_web_md-2.1.0/en_core_web_md-2.1.0.tar.gz#egg=en_core_web_md==2.1.0\n",
            "\u001b[?25l  Downloading https://github.com/explosion/spacy-models/releases/download/en_core_web_md-2.1.0/en_core_web_md-2.1.0.tar.gz (95.4MB)\n",
            "\u001b[K     |████████████████████████████████| 95.4MB 1.2MB/s \n",
            "\u001b[?25hBuilding wheels for collected packages: en-core-web-md\n",
            "  Building wheel for en-core-web-md (setup.py) ... \u001b[?25l\u001b[?25hdone\n",
            "  Created wheel for en-core-web-md: filename=en_core_web_md-2.1.0-cp36-none-any.whl size=97126237 sha256=1142d836462a13b48e9f7f2d9c3a7a82aa42a1b873b68fe4bf0459c09e48e8ec\n",
            "  Stored in directory: /tmp/pip-ephem-wheel-cache-7tgrlnz_/wheels/c1/2c/5f/fd7f3ec336bf97b0809c86264d2831c5dfb00fc2e239d1bb01\n",
            "Successfully built en-core-web-md\n",
            "Installing collected packages: en-core-web-md\n",
            "Successfully installed en-core-web-md-2.1.0\n",
            "\u001b[38;5;2m✔ Download and installation successful\u001b[0m\n",
            "You can now load the model via spacy.load('en_core_web_md')\n"
          ],
          "name": "stdout"
        }
      ]
    },
    {
      "cell_type": "markdown",
      "metadata": {
        "id": "v7JQlbqR9CHC"
      },
      "source": [
        "## Downloading the English Language Model"
      ]
    },
    {
      "cell_type": "code",
      "metadata": {
        "id": "eRmnEdML3OhH",
        "outputId": "aaf00648-f0c1-4b51-bba5-69c7dea87b2d",
        "colab": {
          "base_uri": "https://localhost:8080/",
          "height": 85
        }
      },
      "source": [
        "!{python} -m spacy link en_core_web_md en --force;"
      ],
      "execution_count": null,
      "outputs": [
        {
          "output_type": "stream",
          "text": [
            "\u001b[38;5;2m✔ Linking successful\u001b[0m\n",
            "/usr/local/lib/python3.6/dist-packages/en_core_web_md -->\n",
            "/usr/local/lib/python3.6/dist-packages/spacy/data/en\n",
            "You can now load the model via spacy.load('en')\n"
          ],
          "name": "stdout"
        }
      ]
    },
    {
      "cell_type": "code",
      "metadata": {
        "id": "CEJ0Cs2hzgiQ",
        "outputId": "b8c2fbc0-f651-4513-fd12-43c35503a460",
        "colab": {
          "base_uri": "https://localhost:8080/",
          "height": 258
        }
      },
      "source": [
        "pip install keras~=2.0.0"
      ],
      "execution_count": null,
      "outputs": [
        {
          "output_type": "stream",
          "text": [
            "Collecting keras~=2.0.0\n",
            "\u001b[?25l  Downloading https://files.pythonhosted.org/packages/b6/5a/c7fe49396e9d14f89b05ea550f3d5f8c4cfb3af20e831a3d323fec2a0d5b/Keras-2.0.9-py2.py3-none-any.whl (299kB)\n",
            "\u001b[K     |████████████████████████████████| 307kB 2.9MB/s \n",
            "\u001b[?25hRequirement already satisfied: pyyaml in /usr/local/lib/python3.6/dist-packages (from keras~=2.0.0) (3.13)\n",
            "Requirement already satisfied: numpy>=1.9.1 in /usr/local/lib/python3.6/dist-packages (from keras~=2.0.0) (1.16.5)\n",
            "Requirement already satisfied: scipy>=0.14 in /usr/local/lib/python3.6/dist-packages (from keras~=2.0.0) (1.3.1)\n",
            "Requirement already satisfied: six>=1.9.0 in /usr/local/lib/python3.6/dist-packages (from keras~=2.0.0) (1.12.0)\n",
            "\u001b[31mERROR: textgenrnn 1.4.1 has requirement keras>=2.1.5, but you'll have keras 2.0.9 which is incompatible.\u001b[0m\n",
            "Installing collected packages: keras\n",
            "  Found existing installation: Keras 2.2.5\n",
            "    Uninstalling Keras-2.2.5:\n",
            "      Successfully uninstalled Keras-2.2.5\n",
            "Successfully installed keras-2.0.9\n"
          ],
          "name": "stdout"
        }
      ]
    },
    {
      "cell_type": "markdown",
      "metadata": {
        "id": "yHYeAA859JGq"
      },
      "source": [
        "# Importing the Installations"
      ]
    },
    {
      "cell_type": "code",
      "metadata": {
        "id": "TSw6zFmk3iPu"
      },
      "source": [
        "import rasa_nlu\n",
        "import rasa_core\n",
        "import spacy"
      ],
      "execution_count": null,
      "outputs": []
    },
    {
      "cell_type": "markdown",
      "metadata": {
        "id": "aEw5vhSq9gWa"
      },
      "source": [
        "# 1. Teaching the bot to understand user inputs using Rasa NLU"
      ]
    },
    {
      "cell_type": "markdown",
      "metadata": {
        "id": "oDEAOmaI9o4a"
      },
      "source": [
        "## Preparing the NLU Training Data"
      ]
    },
    {
      "cell_type": "code",
      "metadata": {
        "id": "RPxeQ1_14CjK",
        "outputId": "cb6d697b-92aa-4678-f560-bd547da25c45",
        "colab": {
          "base_uri": "https://localhost:8080/",
          "height": 34
        }
      },
      "source": [
        "nlu_md = \"\"\"\n",
        "## intent:greet\n",
        "- hey\n",
        "- hello there\n",
        "- hi\n",
        "- hello there\n",
        "- good morning\n",
        "- good evening\n",
        "- moin\n",
        "- hey there\n",
        "- let's go\n",
        "- hey dude\n",
        "- goodmorning\n",
        "- goodevening\n",
        "- good afternoon\n",
        "\n",
        "## intent:goodbye\n",
        "- cu\n",
        "- good by\n",
        "- cee you later\n",
        "- good night\n",
        "- good afternoon\n",
        "- bye\n",
        "- goodbye\n",
        "- have a nice day\n",
        "- see you around\n",
        "- bye bye\n",
        "- see you later\n",
        "\n",
        "## intent:mood_affirm\n",
        "- yes\n",
        "- indeed\n",
        "- of course\n",
        "- that sounds good\n",
        "- correct\n",
        "\n",
        "## intent:mood_deny\n",
        "- no\n",
        "- never\n",
        "- I don't think so\n",
        "- don't like that\n",
        "- no way\n",
        "- not really\n",
        "\n",
        "## intent:mood_great\n",
        "- perfect\n",
        "- very good\n",
        "- great\n",
        "- amazing\n",
        "- feeling like a king\n",
        "- wonderful\n",
        "- I am feeling very good\n",
        "- I am great\n",
        "- I am amazing\n",
        "- I am going to save the world\n",
        "- super\n",
        "- extremely good\n",
        "- so so perfect\n",
        "- so good\n",
        "- so perfect\n",
        "\n",
        "## intent:mood_unhappy\n",
        "- my day was horrible\n",
        "- I am sad\n",
        "- I don't feel very well\n",
        "- I am disappointed\n",
        "- super sad\n",
        "- I'm so sad\n",
        "- sad\n",
        "- very sad\n",
        "- unhappy\n",
        "- bad\n",
        "- very bad\n",
        "- awful\n",
        "- terrible\n",
        "- not so good\n",
        "- not very good\n",
        "- extremly sad\n",
        "- so saad\n",
        "- Quite bad - can I get a cute picture of a [bird](group:birds), please?\n",
        "- Really bad and only [doggo](group:shibes) pics and change that.\n",
        "- Not good. The only thing that could make me fell better is a picture of a cute [kitten](group:cats).\n",
        "- so sad. Only the picture of a [puppy](group:shibes) could make it better.\n",
        "- I am very sad. I need a [cat](group:cats) picture.\n",
        "- Extremely sad. Only the cute [doggo](group:shibes) pics can make me feel better.\n",
        "- Bad. Please show me a [bird](group:birds) pic!\n",
        "- Pretty bad to be honest. Can you show me a [puppy](group:shibes) picture to make me fell better?\n",
        "\n",
        "## intent: inform\n",
        "- A [dog](group:shibes)\n",
        "- [dog](group:shibes)\n",
        "- [bird](group:birds)\n",
        "- a [cat](group:cats)\n",
        "- [cat](group:cats)\n",
        "- a [bird](group:birds)\n",
        "- of a [dog](group:shibes)\n",
        "- of a [cat](group:cats)\n",
        "- a [bird](group:birds), please\n",
        "- a [dog](group:shibes), please\n",
        "\n",
        "## intent: query\n",
        "- what can you do for me\n",
        "- how can you help me\n",
        "- what can you do\n",
        "- what help can you offer\n",
        "- what should i expect from you\n",
        "\"\"\"\n",
        "\n",
        "%store nlu_md > nlu.md"
      ],
      "execution_count": null,
      "outputs": [
        {
          "output_type": "stream",
          "text": [
            "Writing 'nlu_md' (str) to file 'nlu.md'.\n"
          ],
          "name": "stdout"
        }
      ]
    },
    {
      "cell_type": "markdown",
      "metadata": {
        "id": "ceazcacn9veB"
      },
      "source": [
        "## Defining the NLU Model Configuration"
      ]
    },
    {
      "cell_type": "code",
      "metadata": {
        "id": "dF60NWhR4ID6",
        "outputId": "4872f925-14cd-4ea6-c4a5-d725eb7f634f",
        "colab": {
          "base_uri": "https://localhost:8080/",
          "height": 34
        }
      },
      "source": [
        "config = \"\"\"\n",
        "language: \"en\"\n",
        "\n",
        "pipeline:\n",
        "- name: \"nlp_spacy\"                   # loads the spacy language model\n",
        "- name: \"tokenizer_spacy\"             # splits the sentence into tokens\n",
        "- name: \"ner_crf\"                   # uses the pretrained spacy NER model\n",
        "- name: \"intent_featurizer_spacy\"     # transform the sentence into a vector representation\n",
        "- name: \"intent_classifier_sklearn\"   # uses the vector representation to classify using SVM\n",
        "- name: \"ner_synonyms\"                # trains the synonyms\n",
        "\"\"\" \n",
        "\n",
        "%store config > config.yml"
      ],
      "execution_count": null,
      "outputs": [
        {
          "output_type": "stream",
          "text": [
            "Writing 'config' (str) to file 'config.yml'.\n"
          ],
          "name": "stdout"
        }
      ]
    },
    {
      "cell_type": "markdown",
      "metadata": {
        "id": "ieoWk91X9y8X"
      },
      "source": [
        "## Training the NLU Model."
      ]
    },
    {
      "cell_type": "code",
      "metadata": {
        "id": "dp3AIHmS4L6x",
        "outputId": "4196a0d2-89e0-4de9-b1cd-0ca2f163c534",
        "colab": {
          "base_uri": "https://localhost:8080/",
          "height": 445
        }
      },
      "source": [
        "from rasa_nlu.training_data import load_data\n",
        "from rasa_nlu.config import RasaNLUModelConfig\n",
        "from rasa_nlu.model import Trainer\n",
        "from rasa_nlu import config\n",
        "\n",
        "# loading the nlu training samples\n",
        "training_data = load_data(\"nlu.md\")\n",
        "\n",
        "# trainer to educate our pipeline\n",
        "trainer = Trainer(config.load(\"config.yml\"))\n",
        "\n",
        "# train the model!\n",
        "interpreter = trainer.train(training_data)\n",
        "\n",
        "# store it for future use\n",
        "model_directory = trainer.persist(r'/gdrive/My Drive/Colab Notebooks/bot-files/models/nlu/', fixed_model_name=\"current\")"
      ],
      "execution_count": null,
      "outputs": [
        {
          "output_type": "stream",
          "text": [
            "INFO:rasa_nlu.training_data.loading:Training data format of nlu.md is md\n",
            "INFO:rasa_nlu.training_data.training_data:Training data stats: \n",
            "\t- intent examples: 85 (7 distinct intents)\n",
            "\t- Found intents: 'mood_unhappy', 'greet', 'mood_affirm', 'mood_deny', 'inform', 'mood_great', 'goodbye'\n",
            "\t- entity examples: 18 (1 distinct entities)\n",
            "\t- found entities: 'group'\n",
            "\n",
            "INFO:rasa_nlu.utils.spacy_utils:Trying to load spacy model with name 'en'\n",
            "INFO:rasa_nlu.components:Added 'nlp_spacy' to component cache. Key 'nlp_spacy-en'.\n",
            "INFO:rasa_nlu.model:Starting to train component nlp_spacy\n",
            "INFO:rasa_nlu.model:Finished training component.\n",
            "INFO:rasa_nlu.model:Starting to train component tokenizer_spacy\n",
            "INFO:rasa_nlu.model:Finished training component.\n",
            "INFO:rasa_nlu.model:Starting to train component ner_crf\n",
            "INFO:rasa_nlu.model:Finished training component.\n",
            "INFO:rasa_nlu.model:Starting to train component intent_featurizer_spacy\n",
            "INFO:rasa_nlu.model:Finished training component.\n",
            "INFO:rasa_nlu.model:Starting to train component intent_classifier_sklearn\n",
            "[Parallel(n_jobs=1)]: Done  12 out of  12 | elapsed:    0.1s finished\n",
            "INFO:rasa_nlu.model:Finished training component.\n",
            "INFO:rasa_nlu.model:Starting to train component ner_synonyms\n",
            "INFO:rasa_nlu.model:Finished training component.\n",
            "INFO:rasa_nlu.model:Successfully saved model into '/gdrive/My Drive/Colab Notebooks/bot-files/models/nlu/default/current'\n"
          ],
          "name": "stderr"
        },
        {
          "output_type": "stream",
          "text": [
            "Fitting 2 folds for each of 6 candidates, totalling 12 fits\n"
          ],
          "name": "stdout"
        }
      ]
    },
    {
      "cell_type": "markdown",
      "metadata": {
        "id": "Jrfp4xOS95ZZ"
      },
      "source": [
        "## Evaluating the NLU model on a random text"
      ]
    },
    {
      "cell_type": "code",
      "metadata": {
        "id": "4UjzlqMV4N1k",
        "outputId": "c29ca5c7-887f-48fb-eae6-cab3acd5d2c8",
        "colab": {
          "base_uri": "https://localhost:8080/",
          "height": 926
        }
      },
      "source": [
        "# A helper function for prettier output\n",
        "\n",
        "def pprint(o):   \n",
        "    print(json.dumps(o, indent=2))\n",
        "    \n",
        "pprint(interpreter.parse(\"I am very sad. Could you send me a cat picture? \"))"
      ],
      "execution_count": null,
      "outputs": [
        {
          "output_type": "stream",
          "text": [
            "{\n",
            "  \"intent\": {\n",
            "    \"name\": \"mood_unhappy\",\n",
            "    \"confidence\": 0.6593665171713954\n",
            "  },\n",
            "  \"entities\": [\n",
            "    {\n",
            "      \"start\": 35,\n",
            "      \"end\": 38,\n",
            "      \"value\": \"cats\",\n",
            "      \"entity\": \"group\",\n",
            "      \"confidence\": 0.9139736105889353,\n",
            "      \"extractor\": \"ner_crf\",\n",
            "      \"processors\": [\n",
            "        \"ner_synonyms\"\n",
            "      ]\n",
            "    }\n",
            "  ],\n",
            "  \"intent_ranking\": [\n",
            "    {\n",
            "      \"name\": \"mood_unhappy\",\n",
            "      \"confidence\": 0.6593665171713954\n",
            "    },\n",
            "    {\n",
            "      \"name\": \"goodbye\",\n",
            "      \"confidence\": 0.1038032395428778\n",
            "    },\n",
            "    {\n",
            "      \"name\": \"mood_great\",\n",
            "      \"confidence\": 0.09443455403124029\n",
            "    },\n",
            "    {\n",
            "      \"name\": \"greet\",\n",
            "      \"confidence\": 0.05163954135059433\n",
            "    },\n",
            "    {\n",
            "      \"name\": \"inform\",\n",
            "      \"confidence\": 0.0350795791530724\n",
            "    },\n",
            "    {\n",
            "      \"name\": \"mood_affirm\",\n",
            "      \"confidence\": 0.029246210463264904\n",
            "    },\n",
            "    {\n",
            "      \"name\": \"mood_deny\",\n",
            "      \"confidence\": 0.026430358287554884\n",
            "    }\n",
            "  ],\n",
            "  \"text\": \"I am very sad. Could you send me a cat picture? \"\n",
            "}\n"
          ],
          "name": "stdout"
        }
      ]
    },
    {
      "cell_type": "markdown",
      "metadata": {
        "id": "OPlSd-As-Fz4"
      },
      "source": [
        "## Evaluating the NLU model on a test data\n",
        "(Here we are using the data at hand i.e nlu.md but it isr recommended to use unseen data)"
      ]
    },
    {
      "cell_type": "code",
      "metadata": {
        "id": "FmRCylbT4jyw",
        "outputId": "37d5d2a8-b159-4081-f5af-b7338c8f710c",
        "colab": {
          "base_uri": "https://localhost:8080/",
          "height": 1000
        }
      },
      "source": [
        "# from rasa_nlu.evaluate import run_evaluation\n",
        "\n",
        "# run_evaluation(\"nlu.md\", model_directory)"
      ],
      "execution_count": null,
      "outputs": [
        {
          "output_type": "stream",
          "text": [
            "INFO:rasa_nlu.components:Added 'nlp_spacy' to component cache. Key 'nlp_spacy-en'.\n",
            "INFO:rasa_nlu.training_data.loading:Training data format of nlu.md is md\n",
            "INFO:rasa_nlu.training_data.training_data:Training data stats: \n",
            "\t- intent examples: 85 (7 distinct intents)\n",
            "\t- Found intents: 'goodbye', 'inform', 'mood_great', 'mood_deny', 'mood_affirm', 'greet', 'mood_unhappy'\n",
            "\t- entity examples: 18 (1 distinct entities)\n",
            "\t- found entities: 'group'\n",
            "\n",
            "INFO:rasa_nlu.evaluate:Intent evaluation results:\n",
            "INFO:rasa_nlu.evaluate:Intent Evaluation: Only considering those 85 examples that have a defined intent out of 85 examples\n",
            "INFO:rasa_nlu.evaluate:F1-Score:  0.9881730469965763\n",
            "INFO:rasa_nlu.evaluate:Precision: 0.9890756302521008\n",
            "INFO:rasa_nlu.evaluate:Accuracy:  0.9882352941176471\n",
            "INFO:rasa_nlu.evaluate:Classification report: \n",
            "              precision    recall  f1-score   support\n",
            "\n",
            "     goodbye       1.00      0.91      0.95        11\n",
            "       greet       0.93      1.00      0.96        13\n",
            "      inform       1.00      1.00      1.00        10\n",
            " mood_affirm       1.00      1.00      1.00         5\n",
            "   mood_deny       1.00      1.00      1.00         6\n",
            "  mood_great       1.00      1.00      1.00        15\n",
            "mood_unhappy       1.00      1.00      1.00        25\n",
            "\n",
            " avg / total       0.99      0.99      0.99        85\n",
            "\n",
            "INFO:rasa_nlu.evaluate:Confusion matrix, without normalization: \n",
            "[[10  1  0  0  0  0  0]\n",
            " [ 0 13  0  0  0  0  0]\n",
            " [ 0  0 10  0  0  0  0]\n",
            " [ 0  0  0  5  0  0  0]\n",
            " [ 0  0  0  0  6  0  0]\n",
            " [ 0  0  0  0  0 15  0]\n",
            " [ 0  0  0  0  0  0 25]]\n"
          ],
          "name": "stderr"
        },
        {
          "output_type": "display_data",
          "data": {
            "image/png": "[encoded data removed]",
            "text/plain": [
              "<Figure size 432x288 with 2 Axes>"
            ]
          },
          "metadata": {
            "tags": []
          }
        },
        {
          "output_type": "stream",
          "text": [
            "INFO:rasa_nlu.evaluate:Entity evaluation results:\n",
            "INFO:rasa_nlu.evaluate:Evaluation for entity extractor: ner_crf \n",
            "INFO:rasa_nlu.evaluate:F1-Score:  0.973385845057744\n",
            "INFO:rasa_nlu.evaluate:Precision: 0.9742985714717164\n",
            "INFO:rasa_nlu.evaluate:Accuracy:  0.9752650176678446\n",
            "INFO:rasa_nlu.evaluate:Classification report: \n",
            "             precision    recall  f1-score   support\n",
            "\n",
            "      group       0.92      0.67      0.77        18\n",
            "  no_entity       0.98      1.00      0.99       265\n",
            "\n",
            "avg / total       0.97      0.98      0.97       283\n",
            "\n"
          ],
          "name": "stderr"
        }
      ]
    },
    {
      "cell_type": "markdown",
      "metadata": {
        "id": "Av3R2GZZ-WJO"
      },
      "source": [
        "# 2. Teaching the bot to respond using Rasa Core"
      ]
    },
    {
      "cell_type": "markdown",
      "metadata": {
        "id": "BKZ63AuS-ZPV"
      },
      "source": [
        "## 1. Writing  Stories"
      ]
    },
    {
      "cell_type": "code",
      "metadata": {
        "id": "W3q1XJ5O4orY",
        "outputId": "8b1ccd4d-98fd-4e34-d5ca-d2542133ff2e",
        "colab": {
          "base_uri": "https://localhost:8080/",
          "height": 34
        }
      },
      "source": [
        "stories_md = \"\"\"\n",
        "## happy path               <!-- name of the story - just for debugging -->\n",
        "* greet              \n",
        "  - utter_greet\n",
        "* mood_great               <!-- user utterance, in format intent[entities] -->\n",
        "  - utter_happy\n",
        "* mood_affirm\n",
        "  - utter_happy\n",
        "* mood_affirm\n",
        "  - utter_goodbye\n",
        "  \n",
        "## happy path 2\n",
        "* greet\n",
        "  - utter_greet\n",
        "* mood_great\n",
        "* query\n",
        "  - utter_ask_picture\n",
        "* inform{\"group\":\"bird\"}\n",
        "  - action_retrieve_image\n",
        "  - utter_did_that_help\n",
        "* mood_affirm\n",
        "  - utter_happy\n",
        "  \n",
        "  \n",
        "## sad path 1               <!-- this is already the start of the next story -->\n",
        "* greet\n",
        "  - utter_greet             <!-- action the bot should execute -->\n",
        "* mood_unhappy\n",
        "  - utter_ask_picture\n",
        "* inform{\"animal\":\"dog\"}  \n",
        "  - action_retrieve_image\n",
        "  - utter_did_that_help\n",
        "* mood_affirm\n",
        "  - utter_happy\n",
        "\n",
        "## sad path 2\n",
        "* greet\n",
        "  - utter_greet\n",
        "* mood_unhappy\n",
        "  - utter_ask_picture\n",
        "* inform{\"group\":\"cat\"}\n",
        "  - action_retrieve_image\n",
        "  - utter_did_that_help\n",
        "* mood_deny\n",
        "  - utter_goodbye\n",
        "  \n",
        "## sad path 3\n",
        "* greet\n",
        "  - utter_greet\n",
        "* mood_unhappy{\"group\":\"puppy\"}\n",
        "  - action_retrieve_image\n",
        "  - utter_did_that_help\n",
        "* mood_affirm\n",
        "  - utter_happy\n",
        "  \n",
        "## strange user\n",
        "* mood_affirm\n",
        "  - utter_happy\n",
        "* mood_affirm\n",
        "  - utter_unclear\n",
        "\n",
        "## say goodbye\n",
        "* goodbye\n",
        "  - utter_goodbye\n",
        "\n",
        "## fallback\n",
        "- utter_unclear\n",
        "\n",
        "\"\"\"\n",
        "\n",
        "%store stories_md > stories.md"
      ],
      "execution_count": null,
      "outputs": [
        {
          "output_type": "stream",
          "text": [
            "Writing 'stories_md' (str) to file 'stories.md'.\n"
          ],
          "name": "stdout"
        }
      ]
    },
    {
      "cell_type": "markdown",
      "metadata": {
        "id": "LnD9v_CX-ePm"
      },
      "source": [
        "## 2. Defining a Domain"
      ]
    },
    {
      "cell_type": "code",
      "metadata": {
        "id": "3SzQq1oy5U9T",
        "outputId": "12105adb-40a9-4810-eff3-e44567e9c0c9",
        "colab": {
          "base_uri": "https://localhost:8080/",
          "height": 34
        }
      },
      "source": [
        "domain_yml = \"\"\"\n",
        "intents:\n",
        "- greet\n",
        "- goodbye\n",
        "- mood_affirm\n",
        "- mood_deny\n",
        "- mood_great\n",
        "- mood_unhappy\n",
        "- inform\n",
        "- query\n",
        "\n",
        "slots:\n",
        "  group:\n",
        "    type: text\n",
        "    \n",
        "entities:\n",
        "- group\n",
        "\n",
        "actions:\n",
        "- utter_greet\n",
        "- utter_did_that_help\n",
        "- utter_happy\n",
        "- utter_goodbye\n",
        "- utter_unclear\n",
        "- utter_ask_picture\n",
        "- actions.retrieve_image.ApiAction\n",
        "\n",
        "templates:\n",
        "  utter_greet:\n",
        "  - text: \"Hey! How are you?\"\n",
        "\n",
        "  utter_did_that_help:\n",
        "  - text: \"Did that help you?\"\n",
        "\n",
        "  utter_unclear:\n",
        "  - text: \"I am not sure what you are aiming for.\"\n",
        "  \n",
        "  utter_happy:\n",
        "  - text: \"Great carry on!\"\n",
        "\n",
        "  utter_goodbye:\n",
        "  - text: \"Bye\"\n",
        "  \n",
        "  utter_ask_picture:\n",
        "  - text: \"If it helps, I can show you a cute picture of a dog, cat or a bird. Which one do you choose?\"\n",
        "\"\"\"\n",
        "\n",
        "%store domain_yml > domain.yml"
      ],
      "execution_count": null,
      "outputs": [
        {
          "output_type": "stream",
          "text": [
            "Writing 'domain_yml' (str) to file 'domain.yml'.\n"
          ],
          "name": "stdout"
        }
      ]
    },
    {
      "cell_type": "markdown",
      "metadata": {
        "id": "ROL3AYs5-iCg"
      },
      "source": [
        "## Custom Actions"
      ]
    },
    {
      "cell_type": "code",
      "metadata": {
        "id": "7SbmLMJa5X0E",
        "outputId": "ddfc5266-69e6-4f1f-a87c-6e0ddb7ee65d",
        "colab": {
          "base_uri": "https://localhost:8080/",
          "height": 51
        }
      },
      "source": [
        "retrieve_image = \"\"\"\n",
        "from rasa_core.actions import Action\n",
        "from rasa_core.events import SlotSet\n",
        "from IPython.core.display import Image, display\n",
        "\n",
        "import requests\n",
        "\n",
        "class ApiAction(Action):\n",
        "    def name(self):\n",
        "        return \"action_retrieve_image\"\n",
        "\n",
        "    def run(self, dispatcher, tracker, domain):\n",
        "        \n",
        "        group = tracker.get_slot('group')\n",
        "        \n",
        "        r = requests.get('http://shibe.online/api/{}?count=1&urls=true&httpsUrls=true'.format(group))\n",
        "        response = r.content.decode()\n",
        "        response = response.replace('[\"',\"\")\n",
        "        response = response.replace('\"]',\"\")\n",
        "   \n",
        "        \n",
        "        #display(Image(response[0], height=550, width=520))\n",
        "        dispatcher.utter_message(\"Here is something to cheer you up: {}\".format(response))\n",
        "   \"\"\"\n",
        "init = \"\"\n",
        "!mkdir actions\n",
        "%store retrieve_image > actions/retrieve_image.py\n",
        "%store init > actions/__init__.py"
      ],
      "execution_count": null,
      "outputs": [
        {
          "output_type": "stream",
          "text": [
            "Writing 'retrieve_image' (str) to file 'actions/retrieve_image.py'.\n",
            "Writing 'init' (str) to file 'actions/__init__.py'.\n"
          ],
          "name": "stdout"
        }
      ]
    },
    {
      "cell_type": "markdown",
      "metadata": {
        "id": "hkYqnXsk_HN3"
      },
      "source": [
        "##Save actions in Google drive"
      ]
    },
    {
      "cell_type": "code",
      "metadata": {
        "id": "mh8CfFM9-5Qh"
      },
      "source": [
        "!mkdir -p /gdrive/My\\ Drive/Colab\\ Notebooks/bot-files/actions\n",
        "!cp actions/* /gdrive/My\\ Drive/Colab\\ Notebooks/bot-files/actions"
      ],
      "execution_count": null,
      "outputs": []
    },
    {
      "cell_type": "markdown",
      "metadata": {
        "id": "M-jn1g_k-o-m"
      },
      "source": [
        "##  Visualising the Training Data"
      ]
    },
    {
      "cell_type": "code",
      "metadata": {
        "id": "pXZhTaSw9SNR"
      },
      "source": [
        "\n",
        "# !apt-get -qq install -y graphviz libgraphviz-dev pkg-config;\n",
        "# !breq install graphviz\n",
        "\n",
        "# !{python} -m pip install pygraphviz;"
      ],
      "execution_count": null,
      "outputs": []
    },
    {
      "cell_type": "code",
      "metadata": {
        "id": "O1gYRXe15amU"
      },
      "source": [
        "\n",
        "# from IPython.display import Image\n",
        "# from rasa_core.agent import Agent\n",
        "\n",
        "# agent = Agent('domain.yml')\n",
        "# agent.visualize(\"stories.md\", \"story_graph.png\", max_history=2)\n",
        "# Image(filename=\"story_graph.png\")"
      ],
      "execution_count": null,
      "outputs": []
    },
    {
      "cell_type": "markdown",
      "metadata": {
        "id": "pCdKD3l7-ua8"
      },
      "source": [
        "## Training a Dialogue Model"
      ]
    },
    {
      "cell_type": "code",
      "metadata": {
        "id": "4D7R-FRO5dxz",
        "outputId": "02530218-4399-4349-ef63-aa05f29c8775",
        "colab": {
          "base_uri": "https://localhost:8080/",
          "height": 1000
        }
      },
      "source": [
        "from rasa_core.policies import FallbackPolicy, KerasPolicy, MemoizationPolicy\n",
        "from rasa_core.agent import Agent\n",
        "\n",
        "# this will catch predictions the model isn't very certain about\n",
        "# there is a threshold for the NLU predictions as well as the action predictions\n",
        "fallback = FallbackPolicy(fallback_action_name=\"utter_unclear\",\n",
        "                          core_threshold=0.2,\n",
        "                          nlu_threshold=0.1)\n",
        "\n",
        "agent = Agent('domain.yml', policies=[MemoizationPolicy(), KerasPolicy(), fallback])\n",
        "\n",
        "# loading our neatly defined training dialogues\n",
        "training_data = agent.load_data('stories.md')\n",
        "\n",
        "agent.train(\n",
        "    training_data,\n",
        "    validation_split=0.0,\n",
        "    epochs=200\n",
        ")\n",
        "\n",
        "agent.persist(r'/gdrive/My Drive/Colab Notebooks/bot-files/models/dialogue')"
      ],
      "execution_count": null,
      "outputs": [
        {
          "output_type": "stream",
          "text": [
            "Processed Story Blocks: 100%|██████████| 7/7 [00:00<00:00, 308.06it/s, # trackers=1]\n",
            "Processed Story Blocks: 100%|██████████| 7/7 [00:00<00:00, 160.16it/s, # trackers=7]\n",
            "Processed Story Blocks: 100%|██████████| 7/7 [00:00<00:00, 150.22it/s, # trackers=15]\n",
            "Processed Story Blocks: 100%|██████████| 7/7 [00:00<00:00, 161.35it/s, # trackers=13]\n",
            "INFO:rasa_core.featurizers:Creating states and action examples from collected trackers (by MaxHistoryTrackerFeaturizer)...\n",
            "Processed trackers: 100%|██████████| 243/243 [00:11<00:00, 21.47it/s, # actions=296]\n",
            "INFO:rasa_core.featurizers:Created 296 action examples.\n",
            "Processed actions: 296it [00:00, 347.58it/s, # examples=296]\n",
            "INFO:rasa_core.policies.memoization:Memorized 296 unique action examples.\n",
            "INFO:rasa_core.featurizers:Creating states and action examples from collected trackers (by MaxHistoryTrackerFeaturizer)...\n",
            "Processed trackers: 100%|██████████| 243/243 [00:10<00:00, 20.81it/s, # actions=296]\n",
            "INFO:rasa_core.featurizers:Created 296 action examples.\n",
            "WARNING:tensorflow:From /usr/local/lib/python3.6/dist-packages/keras/backend/tensorflow_backend.py:1355: calling reduce_any (from tensorflow.python.ops.math_ops) with keep_dims is deprecated and will be removed in a future version.\n",
            "Instructions for updating:\n",
            "keep_dims is deprecated, use keepdims instead\n",
            "WARNING:tensorflow:From /usr/local/lib/python3.6/dist-packages/keras/backend/tensorflow_backend.py:1238: calling reduce_sum (from tensorflow.python.ops.math_ops) with keep_dims is deprecated and will be removed in a future version.\n",
            "Instructions for updating:\n",
            "keep_dims is deprecated, use keepdims instead\n",
            "WARNING:tensorflow:From /usr/local/lib/python3.6/dist-packages/keras/backend/tensorflow_backend.py:1340: calling reduce_mean (from tensorflow.python.ops.math_ops) with keep_dims is deprecated and will be removed in a future version.\n",
            "Instructions for updating:\n",
            "keep_dims is deprecated, use keepdims instead\n",
            "INFO:rasa_core.policies.keras_policy:Fitting model with 296 total samples and a validation split of 0.0\n"
          ],
          "name": "stderr"
        },
        {
          "output_type": "stream",
          "text": [
            "_________________________________________________________________\n",
            "Layer (type)                 Output Shape              Param #   \n",
            "=================================================================\n",
            "masking_1 (Masking)          (None, 5, 18)             0         \n",
            "_________________________________________________________________\n",
            "lstm_1 (LSTM)                (None, 32)                6528      \n",
            "_________________________________________________________________\n",
            "dense_1 (Dense)              (None, 9)                 297       \n",
            "_________________________________________________________________\n",
            "activation_1 (Activation)    (None, 9)                 0         \n",
            "=================================================================\n",
            "Total params: 6,825\n",
            "Trainable params: 6,825\n",
            "Non-trainable params: 0\n",
            "_________________________________________________________________\n",
            "Epoch 1/200\n",
            "296/296 [==============================] - 1s 3ms/step - loss: 2.0711 - acc: 0.4088\n",
            "Epoch 2/200\n",
            "296/296 [==============================] - 0s 183us/step - loss: 1.9376 - acc: 0.4561\n",
            "Epoch 3/200\n",
            "296/296 [==============================] - 0s 217us/step - loss: 1.8354 - acc: 0.4561\n",
            "Epoch 4/200\n",
            "296/296 [==============================] - 0s 184us/step - loss: 1.7873 - acc: 0.4561\n",
            "Epoch 5/200\n",
            "296/296 [==============================] - 0s 191us/step - loss: 1.7315 - acc: 0.4561\n",
            "Epoch 6/200\n",
            "296/296 [==============================] - 0s 184us/step - loss: 1.7071 - acc: 0.4561\n",
            "Epoch 7/200\n",
            "296/296 [==============================] - 0s 189us/step - loss: 1.6896 - acc: 0.4561\n",
            "Epoch 8/200\n",
            "296/296 [==============================] - 0s 201us/step - loss: 1.6676 - acc: 0.4561\n",
            "Epoch 9/200\n",
            "296/296 [==============================] - 0s 238us/step - loss: 1.6464 - acc: 0.4561\n",
            "Epoch 10/200\n",
            "296/296 [==============================] - 0s 193us/step - loss: 1.6235 - acc: 0.4561\n",
            "Epoch 11/200\n",
            "296/296 [==============================] - 0s 175us/step - loss: 1.5966 - acc: 0.4561\n",
            "Epoch 12/200\n",
            "296/296 [==============================] - 0s 178us/step - loss: 1.5716 - acc: 0.4561\n",
            "Epoch 13/200\n",
            "296/296 [==============================] - 0s 193us/step - loss: 1.5502 - acc: 0.4561\n",
            "Epoch 14/200\n",
            "296/296 [==============================] - 0s 189us/step - loss: 1.5472 - acc: 0.4561\n",
            "Epoch 15/200\n",
            "296/296 [==============================] - 0s 189us/step - loss: 1.5104 - acc: 0.4561\n",
            "Epoch 16/200\n",
            "296/296 [==============================] - 0s 181us/step - loss: 1.4886 - acc: 0.4696\n",
            "Epoch 17/200\n",
            "296/296 [==============================] - 0s 188us/step - loss: 1.4545 - acc: 0.4696\n",
            "Epoch 18/200\n",
            "296/296 [==============================] - 0s 183us/step - loss: 1.4155 - acc: 0.4696\n",
            "Epoch 19/200\n",
            "296/296 [==============================] - 0s 182us/step - loss: 1.3882 - acc: 0.4797\n",
            "Epoch 20/200\n",
            "296/296 [==============================] - 0s 181us/step - loss: 1.3511 - acc: 0.4831\n",
            "Epoch 21/200\n",
            "296/296 [==============================] - 0s 203us/step - loss: 1.3090 - acc: 0.4966\n",
            "Epoch 22/200\n",
            "296/296 [==============================] - 0s 181us/step - loss: 1.2720 - acc: 0.5169\n",
            "Epoch 23/200\n",
            "296/296 [==============================] - 0s 185us/step - loss: 1.2478 - acc: 0.5405\n",
            "Epoch 24/200\n",
            "296/296 [==============================] - 0s 180us/step - loss: 1.2130 - acc: 0.5203\n",
            "Epoch 25/200\n",
            "296/296 [==============================] - 0s 204us/step - loss: 1.1624 - acc: 0.5574\n",
            "Epoch 26/200\n",
            "296/296 [==============================] - 0s 188us/step - loss: 1.1292 - acc: 0.5811\n",
            "Epoch 27/200\n",
            "296/296 [==============================] - 0s 181us/step - loss: 1.0811 - acc: 0.6047\n",
            "Epoch 28/200\n",
            "296/296 [==============================] - 0s 182us/step - loss: 1.0268 - acc: 0.6115\n",
            "Epoch 29/200\n",
            "296/296 [==============================] - 0s 180us/step - loss: 0.9769 - acc: 0.6520\n",
            "Epoch 30/200\n",
            "296/296 [==============================] - 0s 184us/step - loss: 0.9410 - acc: 0.6689\n",
            "Epoch 31/200\n",
            "296/296 [==============================] - 0s 186us/step - loss: 0.9051 - acc: 0.6791\n",
            "Epoch 32/200\n",
            "296/296 [==============================] - 0s 216us/step - loss: 0.8800 - acc: 0.7095\n",
            "Epoch 33/200\n",
            "296/296 [==============================] - 0s 204us/step - loss: 0.8429 - acc: 0.7264\n",
            "Epoch 34/200\n",
            "296/296 [==============================] - 0s 183us/step - loss: 0.8056 - acc: 0.7703\n",
            "Epoch 35/200\n",
            "296/296 [==============================] - 0s 180us/step - loss: 0.7636 - acc: 0.8108\n",
            "Epoch 36/200\n",
            "296/296 [==============================] - 0s 181us/step - loss: 0.7670 - acc: 0.7838\n",
            "Epoch 37/200\n",
            "296/296 [==============================] - 0s 241us/step - loss: 0.7353 - acc: 0.7939\n",
            "Epoch 38/200\n",
            "296/296 [==============================] - 0s 188us/step - loss: 0.6969 - acc: 0.8243\n",
            "Epoch 39/200\n",
            "296/296 [==============================] - 0s 216us/step - loss: 0.6740 - acc: 0.8412\n",
            "Epoch 40/200\n",
            "296/296 [==============================] - 0s 190us/step - loss: 0.6687 - acc: 0.8041\n",
            "Epoch 41/200\n",
            "296/296 [==============================] - 0s 187us/step - loss: 0.6308 - acc: 0.8446\n",
            "Epoch 42/200\n",
            "296/296 [==============================] - 0s 183us/step - loss: 0.6198 - acc: 0.8480\n",
            "Epoch 43/200\n",
            "296/296 [==============================] - 0s 229us/step - loss: 0.6174 - acc: 0.8547\n",
            "Epoch 44/200\n",
            "296/296 [==============================] - 0s 194us/step - loss: 0.5673 - acc: 0.8615\n",
            "Epoch 45/200\n",
            "296/296 [==============================] - 0s 202us/step - loss: 0.5922 - acc: 0.8311\n",
            "Epoch 46/200\n",
            "296/296 [==============================] - 0s 190us/step - loss: 0.5540 - acc: 0.8818\n",
            "Epoch 47/200\n",
            "296/296 [==============================] - 0s 184us/step - loss: 0.5333 - acc: 0.8716\n",
            "Epoch 48/200\n",
            "296/296 [==============================] - 0s 185us/step - loss: 0.5338 - acc: 0.8818\n",
            "Epoch 49/200\n",
            "296/296 [==============================] - 0s 190us/step - loss: 0.5157 - acc: 0.8851\n",
            "Epoch 50/200\n",
            "296/296 [==============================] - 0s 203us/step - loss: 0.5168 - acc: 0.8851\n",
            "Epoch 51/200\n",
            "296/296 [==============================] - 0s 185us/step - loss: 0.4935 - acc: 0.8885\n",
            "Epoch 52/200\n",
            "296/296 [==============================] - 0s 189us/step - loss: 0.4649 - acc: 0.9155\n",
            "Epoch 53/200\n",
            "296/296 [==============================] - 0s 187us/step - loss: 0.4438 - acc: 0.9257\n",
            "Epoch 54/200\n",
            "296/296 [==============================] - 0s 188us/step - loss: 0.4397 - acc: 0.9189\n",
            "Epoch 55/200\n",
            "296/296 [==============================] - 0s 186us/step - loss: 0.4152 - acc: 0.9291\n",
            "Epoch 56/200\n",
            "296/296 [==============================] - 0s 208us/step - loss: 0.4314 - acc: 0.9054\n",
            "Epoch 57/200\n",
            "296/296 [==============================] - 0s 190us/step - loss: 0.3983 - acc: 0.9291\n",
            "Epoch 58/200\n",
            "296/296 [==============================] - 0s 187us/step - loss: 0.4211 - acc: 0.8986\n",
            "Epoch 59/200\n",
            "296/296 [==============================] - 0s 181us/step - loss: 0.4042 - acc: 0.9020\n",
            "Epoch 60/200\n",
            "296/296 [==============================] - 0s 192us/step - loss: 0.3878 - acc: 0.9324\n",
            "Epoch 61/200\n",
            "296/296 [==============================] - 0s 190us/step - loss: 0.3828 - acc: 0.9257\n",
            "Epoch 62/200\n",
            "296/296 [==============================] - 0s 187us/step - loss: 0.3647 - acc: 0.9358\n",
            "Epoch 63/200\n",
            "296/296 [==============================] - 0s 188us/step - loss: 0.3508 - acc: 0.9291\n",
            "Epoch 64/200\n",
            "296/296 [==============================] - 0s 203us/step - loss: 0.3383 - acc: 0.9426\n",
            "Epoch 65/200\n",
            "296/296 [==============================] - 0s 198us/step - loss: 0.3371 - acc: 0.9493\n",
            "Epoch 66/200\n",
            "296/296 [==============================] - 0s 187us/step - loss: 0.3412 - acc: 0.9358\n",
            "Epoch 67/200\n",
            "296/296 [==============================] - 0s 191us/step - loss: 0.2971 - acc: 0.9527\n",
            "Epoch 68/200\n",
            "296/296 [==============================] - 0s 191us/step - loss: 0.2938 - acc: 0.9459\n",
            "Epoch 69/200\n",
            "296/296 [==============================] - 0s 187us/step - loss: 0.3085 - acc: 0.9223\n",
            "Epoch 70/200\n",
            "296/296 [==============================] - 0s 185us/step - loss: 0.2657 - acc: 0.9426\n",
            "Epoch 71/200\n",
            "296/296 [==============================] - 0s 187us/step - loss: 0.2590 - acc: 0.9493\n",
            "Epoch 72/200\n",
            "296/296 [==============================] - 0s 221us/step - loss: 0.2959 - acc: 0.9155\n",
            "Epoch 73/200\n",
            "296/296 [==============================] - 0s 203us/step - loss: 0.2677 - acc: 0.9426\n",
            "Epoch 74/200\n",
            "296/296 [==============================] - 0s 189us/step - loss: 0.2633 - acc: 0.9426\n",
            "Epoch 75/200\n",
            "296/296 [==============================] - 0s 179us/step - loss: 0.2648 - acc: 0.9595\n",
            "Epoch 76/200\n",
            "296/296 [==============================] - 0s 178us/step - loss: 0.2657 - acc: 0.9595\n",
            "Epoch 77/200\n",
            "296/296 [==============================] - 0s 180us/step - loss: 0.2574 - acc: 0.9459\n",
            "Epoch 78/200\n",
            "296/296 [==============================] - 0s 191us/step - loss: 0.2531 - acc: 0.9392\n",
            "Epoch 79/200\n",
            "296/296 [==============================] - 0s 187us/step - loss: 0.2460 - acc: 0.9561\n",
            "Epoch 80/200\n",
            "296/296 [==============================] - 0s 189us/step - loss: 0.2314 - acc: 0.9459\n",
            "Epoch 81/200\n",
            "296/296 [==============================] - 0s 180us/step - loss: 0.2263 - acc: 0.9527\n",
            "Epoch 82/200\n",
            "296/296 [==============================] - 0s 188us/step - loss: 0.2101 - acc: 0.9527\n",
            "Epoch 83/200\n",
            "296/296 [==============================] - 0s 179us/step - loss: 0.2029 - acc: 0.9561\n",
            "Epoch 84/200\n",
            "296/296 [==============================] - 0s 191us/step - loss: 0.2011 - acc: 0.9628\n",
            "Epoch 85/200\n",
            "296/296 [==============================] - 0s 181us/step - loss: 0.2060 - acc: 0.9527\n",
            "Epoch 86/200\n",
            "296/296 [==============================] - 0s 186us/step - loss: 0.2160 - acc: 0.9527\n",
            "Epoch 87/200\n",
            "296/296 [==============================] - 0s 187us/step - loss: 0.1968 - acc: 0.9730\n",
            "Epoch 88/200\n",
            "296/296 [==============================] - 0s 245us/step - loss: 0.1682 - acc: 0.9696\n",
            "Epoch 89/200\n",
            "296/296 [==============================] - 0s 188us/step - loss: 0.1829 - acc: 0.9628\n",
            "Epoch 90/200\n",
            "296/296 [==============================] - 0s 190us/step - loss: 0.1686 - acc: 0.9831\n",
            "Epoch 91/200\n",
            "296/296 [==============================] - 0s 217us/step - loss: 0.1613 - acc: 0.9764\n",
            "Epoch 92/200\n",
            "296/296 [==============================] - 0s 196us/step - loss: 0.1801 - acc: 0.9527\n",
            "Epoch 93/200\n",
            "296/296 [==============================] - 0s 184us/step - loss: 0.1619 - acc: 0.9764\n",
            "Epoch 94/200\n",
            "296/296 [==============================] - 0s 191us/step - loss: 0.1680 - acc: 0.9628\n",
            "Epoch 95/200\n",
            "296/296 [==============================] - 0s 192us/step - loss: 0.1749 - acc: 0.9595\n",
            "Epoch 96/200\n",
            "296/296 [==============================] - 0s 205us/step - loss: 0.1405 - acc: 0.9831\n",
            "Epoch 97/200\n",
            "296/296 [==============================] - 0s 185us/step - loss: 0.1770 - acc: 0.9628\n",
            "Epoch 98/200\n",
            "296/296 [==============================] - 0s 190us/step - loss: 0.1663 - acc: 0.9628\n",
            "Epoch 99/200\n",
            "296/296 [==============================] - 0s 193us/step - loss: 0.1513 - acc: 0.9797\n",
            "Epoch 100/200\n",
            "296/296 [==============================] - 0s 192us/step - loss: 0.1910 - acc: 0.9527\n",
            "Epoch 101/200\n",
            "296/296 [==============================] - 0s 213us/step - loss: 0.1459 - acc: 0.9662\n",
            "Epoch 102/200\n",
            "296/296 [==============================] - 0s 190us/step - loss: 0.1520 - acc: 0.9628\n",
            "Epoch 103/200\n",
            "296/296 [==============================] - 0s 188us/step - loss: 0.1311 - acc: 0.9797\n",
            "Epoch 104/200\n",
            "296/296 [==============================] - 0s 188us/step - loss: 0.1606 - acc: 0.9561\n",
            "Epoch 105/200\n",
            "296/296 [==============================] - 0s 187us/step - loss: 0.1421 - acc: 0.9662\n",
            "Epoch 106/200\n",
            "296/296 [==============================] - 0s 189us/step - loss: 0.1284 - acc: 0.9764\n",
            "Epoch 107/200\n",
            "296/296 [==============================] - 0s 189us/step - loss: 0.1492 - acc: 0.9628\n",
            "Epoch 108/200\n",
            "296/296 [==============================] - 0s 184us/step - loss: 0.1254 - acc: 0.9831\n",
            "Epoch 109/200\n",
            "296/296 [==============================] - 0s 208us/step - loss: 0.1532 - acc: 0.9595\n",
            "Epoch 110/200\n",
            "296/296 [==============================] - 0s 180us/step - loss: 0.1095 - acc: 0.9764\n",
            "Epoch 111/200\n",
            "296/296 [==============================] - 0s 184us/step - loss: 0.1001 - acc: 0.9831\n",
            "Epoch 112/200\n",
            "296/296 [==============================] - 0s 184us/step - loss: 0.1186 - acc: 0.9764\n",
            "Epoch 113/200\n",
            "296/296 [==============================] - 0s 189us/step - loss: 0.1216 - acc: 0.9764\n",
            "Epoch 114/200\n",
            "296/296 [==============================] - 0s 214us/step - loss: 0.1145 - acc: 0.9730\n",
            "Epoch 115/200\n",
            "296/296 [==============================] - 0s 183us/step - loss: 0.1138 - acc: 0.9764\n",
            "Epoch 116/200\n",
            "296/296 [==============================] - 0s 224us/step - loss: 0.1014 - acc: 0.9831\n",
            "Epoch 117/200\n",
            "296/296 [==============================] - 0s 214us/step - loss: 0.1080 - acc: 0.9797\n",
            "Epoch 118/200\n",
            "296/296 [==============================] - 0s 316us/step - loss: 0.1042 - acc: 0.9865\n",
            "Epoch 119/200\n",
            "296/296 [==============================] - 0s 194us/step - loss: 0.1013 - acc: 0.9865\n",
            "Epoch 120/200\n",
            "296/296 [==============================] - 0s 191us/step - loss: 0.1091 - acc: 0.9764\n",
            "Epoch 121/200\n",
            "296/296 [==============================] - 0s 220us/step - loss: 0.1006 - acc: 0.9865\n",
            "Epoch 122/200\n",
            "296/296 [==============================] - 0s 200us/step - loss: 0.0915 - acc: 0.9899\n",
            "Epoch 123/200\n",
            "296/296 [==============================] - 0s 189us/step - loss: 0.1106 - acc: 0.9764\n",
            "Epoch 124/200\n",
            "296/296 [==============================] - 0s 190us/step - loss: 0.1113 - acc: 0.9797\n",
            "Epoch 125/200\n",
            "296/296 [==============================] - 0s 230us/step - loss: 0.1112 - acc: 0.9730\n",
            "Epoch 126/200\n",
            "296/296 [==============================] - 0s 183us/step - loss: 0.1028 - acc: 0.9730\n",
            "Epoch 127/200\n",
            "296/296 [==============================] - 0s 178us/step - loss: 0.1159 - acc: 0.9730\n",
            "Epoch 128/200\n",
            "296/296 [==============================] - 0s 185us/step - loss: 0.0801 - acc: 0.9932\n",
            "Epoch 129/200\n",
            "296/296 [==============================] - 0s 190us/step - loss: 0.1109 - acc: 0.9730\n",
            "Epoch 130/200\n",
            "296/296 [==============================] - 0s 190us/step - loss: 0.0740 - acc: 0.9865\n",
            "Epoch 131/200\n",
            "296/296 [==============================] - 0s 187us/step - loss: 0.0879 - acc: 0.9764\n",
            "Epoch 132/200\n",
            "296/296 [==============================] - 0s 191us/step - loss: 0.1177 - acc: 0.9662\n",
            "Epoch 133/200\n",
            "296/296 [==============================] - 0s 200us/step - loss: 0.0843 - acc: 0.9831\n",
            "Epoch 134/200\n",
            "296/296 [==============================] - 0s 185us/step - loss: 0.0909 - acc: 0.9831\n",
            "Epoch 135/200\n",
            "296/296 [==============================] - 0s 186us/step - loss: 0.0735 - acc: 0.9865\n",
            "Epoch 136/200\n",
            "296/296 [==============================] - 0s 190us/step - loss: 0.1006 - acc: 0.9831\n",
            "Epoch 137/200\n",
            "296/296 [==============================] - 0s 186us/step - loss: 0.1211 - acc: 0.9696\n",
            "Epoch 138/200\n",
            "296/296 [==============================] - 0s 186us/step - loss: 0.0886 - acc: 0.9831\n",
            "Epoch 139/200\n",
            "296/296 [==============================] - 0s 184us/step - loss: 0.0878 - acc: 0.9899\n",
            "Epoch 140/200\n",
            "296/296 [==============================] - 0s 190us/step - loss: 0.0780 - acc: 0.9865\n",
            "Epoch 141/200\n",
            "296/296 [==============================] - 0s 186us/step - loss: 0.0708 - acc: 0.9797\n",
            "Epoch 142/200\n",
            "296/296 [==============================] - 0s 180us/step - loss: 0.1158 - acc: 0.9696\n",
            "Epoch 143/200\n",
            "296/296 [==============================] - 0s 229us/step - loss: 0.0947 - acc: 0.9831\n",
            "Epoch 144/200\n",
            "296/296 [==============================] - 0s 190us/step - loss: 0.0651 - acc: 0.9899\n",
            "Epoch 145/200\n",
            "296/296 [==============================] - 0s 192us/step - loss: 0.0733 - acc: 0.9899\n",
            "Epoch 146/200\n",
            "296/296 [==============================] - 0s 189us/step - loss: 0.0654 - acc: 0.9966\n",
            "Epoch 147/200\n",
            "296/296 [==============================] - 0s 194us/step - loss: 0.0699 - acc: 0.9865\n",
            "Epoch 148/200\n",
            "296/296 [==============================] - 0s 196us/step - loss: 0.0671 - acc: 0.9865\n",
            "Epoch 149/200\n",
            "296/296 [==============================] - 0s 200us/step - loss: 0.0807 - acc: 0.9797\n",
            "Epoch 150/200\n",
            "296/296 [==============================] - 0s 192us/step - loss: 0.0728 - acc: 0.9797\n",
            "Epoch 151/200\n",
            "296/296 [==============================] - 0s 192us/step - loss: 0.0819 - acc: 0.9865\n",
            "Epoch 152/200\n",
            "296/296 [==============================] - 0s 191us/step - loss: 0.0601 - acc: 0.9899\n",
            "Epoch 153/200\n",
            "296/296 [==============================] - 0s 189us/step - loss: 0.0755 - acc: 0.9730\n",
            "Epoch 154/200\n",
            "296/296 [==============================] - 0s 185us/step - loss: 0.0491 - acc: 0.9899\n",
            "Epoch 155/200\n",
            "296/296 [==============================] - 0s 214us/step - loss: 0.0957 - acc: 0.9662\n",
            "Epoch 156/200\n",
            "296/296 [==============================] - 0s 190us/step - loss: 0.0841 - acc: 0.9797\n",
            "Epoch 157/200\n",
            "296/296 [==============================] - 0s 205us/step - loss: 0.0676 - acc: 0.9797\n",
            "Epoch 158/200\n",
            "296/296 [==============================] - 0s 187us/step - loss: 0.0881 - acc: 0.9730\n",
            "Epoch 159/200\n",
            "296/296 [==============================] - 0s 201us/step - loss: 0.0731 - acc: 0.9831\n",
            "Epoch 160/200\n",
            "296/296 [==============================] - 0s 219us/step - loss: 0.0663 - acc: 0.9831\n",
            "Epoch 161/200\n",
            "296/296 [==============================] - 0s 182us/step - loss: 0.0631 - acc: 0.9865\n",
            "Epoch 162/200\n",
            "296/296 [==============================] - 0s 192us/step - loss: 0.0862 - acc: 0.9797\n",
            "Epoch 163/200\n",
            "296/296 [==============================] - 0s 185us/step - loss: 0.0541 - acc: 0.9899\n",
            "Epoch 164/200\n",
            "296/296 [==============================] - 0s 189us/step - loss: 0.0673 - acc: 0.9899\n",
            "Epoch 165/200\n",
            "296/296 [==============================] - 0s 189us/step - loss: 0.0743 - acc: 0.9865\n",
            "Epoch 166/200\n",
            "296/296 [==============================] - 0s 194us/step - loss: 0.0543 - acc: 0.9932\n",
            "Epoch 167/200\n",
            "296/296 [==============================] - 0s 194us/step - loss: 0.0908 - acc: 0.9797\n",
            "Epoch 168/200\n",
            "296/296 [==============================] - 0s 185us/step - loss: 0.0795 - acc: 0.9730\n",
            "Epoch 169/200\n",
            "296/296 [==============================] - 0s 187us/step - loss: 0.0638 - acc: 0.9899\n",
            "Epoch 170/200\n",
            "296/296 [==============================] - 0s 193us/step - loss: 0.0474 - acc: 0.9932\n",
            "Epoch 171/200\n",
            "296/296 [==============================] - 0s 188us/step - loss: 0.0530 - acc: 0.9932\n",
            "Epoch 172/200\n",
            "296/296 [==============================] - 0s 188us/step - loss: 0.0481 - acc: 0.9899\n",
            "Epoch 173/200\n",
            "296/296 [==============================] - 0s 185us/step - loss: 0.0543 - acc: 0.9932\n",
            "Epoch 174/200\n",
            "296/296 [==============================] - 0s 192us/step - loss: 0.0654 - acc: 0.9865\n",
            "Epoch 175/200\n",
            "296/296 [==============================] - 0s 179us/step - loss: 0.0763 - acc: 0.9899\n",
            "Epoch 176/200\n",
            "296/296 [==============================] - 0s 182us/step - loss: 0.0564 - acc: 0.9899\n",
            "Epoch 177/200\n",
            "296/296 [==============================] - 0s 187us/step - loss: 0.0832 - acc: 0.9764\n",
            "Epoch 178/200\n",
            "296/296 [==============================] - 0s 241us/step - loss: 0.0576 - acc: 0.9865\n",
            "Epoch 179/200\n",
            "296/296 [==============================] - 0s 186us/step - loss: 0.0516 - acc: 0.9932\n",
            "Epoch 180/200\n",
            "296/296 [==============================] - 0s 194us/step - loss: 0.0414 - acc: 0.9932\n",
            "Epoch 181/200\n",
            "296/296 [==============================] - 0s 190us/step - loss: 0.0715 - acc: 0.9865\n",
            "Epoch 182/200\n",
            "296/296 [==============================] - 0s 190us/step - loss: 0.0474 - acc: 0.9932\n",
            "Epoch 183/200\n",
            "296/296 [==============================] - 0s 199us/step - loss: 0.0346 - acc: 0.9966\n",
            "Epoch 184/200\n",
            "296/296 [==============================] - 0s 189us/step - loss: 0.0562 - acc: 0.9899\n",
            "Epoch 185/200\n",
            "296/296 [==============================] - 0s 185us/step - loss: 0.0502 - acc: 0.9932\n",
            "Epoch 186/200\n",
            "296/296 [==============================] - 0s 208us/step - loss: 0.0601 - acc: 0.9865\n",
            "Epoch 187/200\n",
            "296/296 [==============================] - 0s 183us/step - loss: 0.0414 - acc: 0.9899\n",
            "Epoch 188/200\n",
            "296/296 [==============================] - 0s 181us/step - loss: 0.0409 - acc: 0.9932\n",
            "Epoch 189/200\n",
            "296/296 [==============================] - 0s 198us/step - loss: 0.0449 - acc: 0.9966\n",
            "Epoch 190/200\n",
            "296/296 [==============================] - 0s 206us/step - loss: 0.0500 - acc: 0.9932\n",
            "Epoch 191/200\n",
            "296/296 [==============================] - 0s 207us/step - loss: 0.0436 - acc: 0.9932\n",
            "Epoch 192/200\n",
            "296/296 [==============================] - 0s 192us/step - loss: 0.0678 - acc: 0.9831\n",
            "Epoch 193/200\n",
            "296/296 [==============================] - 0s 200us/step - loss: 0.0488 - acc: 0.9865\n",
            "Epoch 194/200\n",
            "296/296 [==============================] - 0s 188us/step - loss: 0.0336 - acc: 0.9932\n",
            "Epoch 195/200\n",
            "296/296 [==============================] - 0s 221us/step - loss: 0.0501 - acc: 0.9932\n",
            "Epoch 196/200\n",
            "296/296 [==============================] - 0s 187us/step - loss: 0.0488 - acc: 0.9865\n",
            "Epoch 197/200\n",
            "296/296 [==============================] - 0s 191us/step - loss: 0.0415 - acc: 0.9865\n",
            "Epoch 198/200\n",
            "296/296 [==============================] - 0s 187us/step - loss: 0.0381 - acc: 0.9899\n",
            "Epoch 199/200\n",
            "296/296 [==============================] - 0s 189us/step - loss: 0.0590 - acc: 0.9865\n",
            "Epoch 200/200\n",
            "296/296 [==============================] - 0s 197us/step - loss: 0.0407 - acc: 1.0000\n"
          ],
          "name": "stdout"
        },
        {
          "output_type": "stream",
          "text": [
            "INFO:rasa_core.policies.keras_policy:Done fitting keras policy model\n",
            "INFO:rasa_core.agent:Persisted model to '/gdrive/My Drive/Colab Notebooks/bot-files/models/dialogue'\n"
          ],
          "name": "stderr"
        }
      ]
    },
    {
      "cell_type": "markdown",
      "metadata": {
        "id": "c4911z6y-5rD"
      },
      "source": [
        "# Talk to your Bot"
      ]
    },
    {
      "cell_type": "code",
      "metadata": {
        "id": "nE4coPam5hry",
        "outputId": "6b8b5453-8a40-4cfc-d135-b4f49d96ba3d",
        "colab": {
          "base_uri": "https://localhost:8080/",
          "height": 35
        }
      },
      "source": [
        "#Starting the Bot\n",
        "\n",
        "from rasa_core.agent import Agent\n",
        "agent = Agent.load(r'/gdrive/My Drive/Colab Notebooks/bot-files/models/dialogue', interpreter=model_directory)"
      ],
      "execution_count": null,
      "outputs": [
        {
          "output_type": "stream",
          "text": [
            "INFO:rasa_nlu.components:Added 'nlp_spacy' to component cache. Key 'nlp_spacy-en'.\n"
          ],
          "name": "stderr"
        }
      ]
    },
    {
      "cell_type": "code",
      "metadata": {
        "id": "DDVLzhAT5yrP",
        "outputId": "900624d6-b502-4c0d-a6cd-1b5f9487cdf5",
        "colab": {
          "base_uri": "https://localhost:8080/",
          "height": 218
        }
      },
      "source": [
        "print(\"Your bot is ready to talk! Type your messages here or send 'stop'\")\n",
        "while True:\n",
        "    a = input()\n",
        "    if a == 'stop':\n",
        "        break\n",
        "    responses = agent.handle_message(a)\n",
        "    for response in responses:\n",
        "        print(response[\"text\"])\n",
        "        "
      ],
      "execution_count": null,
      "outputs": [
        {
          "output_type": "stream",
          "text": [
            "Your bot is ready to talk! Type your messages here or send 'stop'\n",
            "hello\n",
            "Hey! How are you?\n",
            "not good\n",
            "To cheer you up, I can show you a cute picture of a dog, cat or a bird. Which one do you choose?\n",
            "a puppy\n",
            "Here is something to cheer you up: https://cdn.shibe.online/shibes/b843afaf7d9d7ab104d81d16fb484fcb9834c68c.jpg\n",
            "Did that help you?\n",
            "yes\n",
            "Great carry on!\n"
          ],
          "name": "stdout"
        }
      ]
    },
    {
      "cell_type": "code",
      "metadata": {
        "id": "enJNkbvB54y1"
      },
      "source": [
        ""
      ],
      "execution_count": null,
      "outputs": []
    }
  ]
}